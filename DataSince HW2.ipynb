{
  "nbformat": 4,
  "nbformat_minor": 0,
  "metadata": {
    "colab": {
      "provenance": []
    },
    "kernelspec": {
      "name": "python3",
      "display_name": "Python 3"
    },
    "language_info": {
      "name": "python"
    }
  },
  "cells": [
    {
      "cell_type": "markdown",
      "source": [
        "Данные получены с портала kaggle, которые предоставил разработчик методом парсинга веб-страниц на selenium и bs4. Содержатся более 1000 полезных записей с сайта Sephora. Данные о товарах красоты."
      ],
      "metadata": {
        "id": "oxCukIMoqEcO"
      }
    },
    {
      "cell_type": "markdown",
      "source": [
        "id - Идентификатор продукта на веб-сайте Sephora.\n",
        "\n",
        "brand - Торговая марка продукта на веб-сайте Sephora.\n",
        "\n",
        "category - Категория продукта на веб-сайте Sephora.\n",
        "\n",
        "name - Название продукта на веб-сайте Sephora.\n",
        "\n",
        "size - Размер товара \n",
        "\n",
        "rating - Рейтинг товара\n",
        "\n",
        "numberofreviews - Количество отзывов о продукте\n",
        "\n",
        "love - Количество людей, которым понравился продукт\n",
        "\n",
        "price - Цена товара\n",
        "\n",
        "value_price Стоимость товара (для товаров со скидкой)\n",
        "\n",
        "URL - ссылка на продукт\n",
        "\n",
        "MarketingFlags - Маркетинговые флаги продукта с веб-сайта, если они были \n",
        "эксклюзивными или продавались только через Интернет.\n",
        "\n",
        "MarketingFlags_content - Типы маркетинговых флагов продукта. \n",
        "\n",
        "options - Варианты, доступные на веб-сайте для продукта, такие как цвета и \n",
        "размеры.\n",
        "\n",
        "details - Подробная информация о продукте доступна на веб-сайте\n",
        "\n",
        "howtouse - объект Инструкции продукта, если таковые имеются\n",
        "\n",
        "ingredients Ингредиенты продукта, если таковые имеются\n",
        "\n",
        "online_only - Если товар продается только онлайн\n",
        "\n",
        "Exclusive - Если продукт продается исключительно на веб-сайте Sephora\n",
        "\n",
        "limited_edition - Если продукт выпущен ограниченным тиражом\n",
        "limitedtimeoffer - Если продукт имеет ограниченное по времени предложение"
      ],
      "metadata": {
        "id": "zY8l7ULloNKO"
      }
    },
    {
      "cell_type": "code",
      "execution_count": 2,
      "metadata": {
        "id": "jFBO9HCTj4-D"
      },
      "outputs": [],
      "source": [
        "import numpy as np\n",
        "import pandas as pd\n",
        "import matplotlib.pyplot as plt\n",
        "import seaborn as sns\n",
        "from scipy import stats\n",
        "import plotly.express as px\n",
        "import warnings\n",
        "from sklearn.metrics import mean_squared_error\n",
        "from sklearn.model_selection import train_test_split\n",
        "from sklearn import metrics\n",
        "from sklearn.preprocessing import StandardScaler\n",
        "from sklearn.linear_model import LogisticRegression\n",
        "from sklearn.metrics import classification_report\n",
        "\n",
        "warnings.filterwarnings('ignore')"
      ]
    },
    {
      "cell_type": "markdown",
      "source": [
        "Считываем датасет в датафрейм"
      ],
      "metadata": {
        "id": "LOpHgPaPCsMs"
      }
    },
    {
      "cell_type": "code",
      "source": [
        "data = pd.read_csv('sephora_website_dataset.csv')"
      ],
      "metadata": {
        "id": "X5fPDt2wrlXN"
      },
      "execution_count": 5,
      "outputs": []
    },
    {
      "cell_type": "code",
      "source": [
        "data.sample(5)"
      ],
      "metadata": {
        "colab": {
          "base_uri": "https://localhost:8080/",
          "height": 681
        },
        "id": "8e-uNeQnsRkt",
        "outputId": "095eac2f-1a90-453b-e956-5b9354dc6d79"
      },
      "execution_count": 164,
      "outputs": [
        {
          "output_type": "execute_result",
          "data": {
            "text/plain": [
              "           id               brand                 category  \\\n",
              "3717  1874437                ILIA     Lip Balm & Treatment   \n",
              "6465  2301984   Peter Thomas Roth  Eye Creams & Treatments   \n",
              "7061  2164010  SEPHORA COLLECTION          False Eyelashes   \n",
              "5720  2226801            Moschino        Perfume Gift Sets   \n",
              "2342  2269918   Dr. Barbara Sturm              Face Serums   \n",
              "\n",
              "                                           name            size  rating  \\\n",
              "3717                               Balmy Nights    0.14 oz/ 4 g     4.0   \n",
              "6465  Vital-E™ Microbiome Age Defense Eye Cream   0.5 oz/ 15 mL     4.5   \n",
              "7061               One Two Lash Magnetic Lashes         no size     3.5   \n",
              "5720                    MOSCHINO TOY 2 Mini Duo  2 x 0.17oz/5mL     4.0   \n",
              "2342                              Calming Serum     1 oz/ 30 mL     4.0   \n",
              "\n",
              "      number_of_reviews  love  price  value_price  ... MarketingFlags  \\\n",
              "3717                 31  4700   26.0         26.0  ...          False   \n",
              "6465                521  4200   55.0         55.0  ...          False   \n",
              "7061                173  8200   69.0         69.0  ...           True   \n",
              "5720                 11  3200   20.0         20.0  ...          False   \n",
              "2342                  6  1100  250.0        250.0  ...          False   \n",
              "\n",
              "      MarketingFlags_content     options  \\\n",
              "3717                       0  no options   \n",
              "6465                       0  no options   \n",
              "7061               exclusive  no options   \n",
              "5720                       0  no options   \n",
              "2342                       0  no options   \n",
              "\n",
              "                                                details  \\\n",
              "3717  What it is:\\nA lip exfoliator in a convenient ...   \n",
              "6465  What it is:  An anti-pollution- anti-blue ligh...   \n",
              "7061  What it is: A set of two pairs of easy-to-wear...   \n",
              "5720  Fragrance Family: FreshScent Type: Fresh Flora...   \n",
              "2342  What it is:  \\nAn ultra-soothing- plant-based ...   \n",
              "\n",
              "                                             how_to_use  \\\n",
              "3717  Suggested Usage:\\n-Recommended: Use before app...   \n",
              "6465  Suggested Usage:-Melt transforming solid-to-cr...   \n",
              "7061  Suggested Usage:To apply by hand:-After applyi...   \n",
              "5720  Suggested Usage:-Fragrance is intensified by t...   \n",
              "2342  Suggested Usage:\\n-Use in the morning and even...   \n",
              "\n",
              "                                            ingredients online_only  \\\n",
              "3717  Helianthus Annuus (Sunflower) Seed Oil*- Sesam...           0   \n",
              "6465   -Gamma E Antioxidant Technology: Uses unparal...           0   \n",
              "7061    Cruelty-free Synthetic Eyelashes- Micro-magnets           0   \n",
              "5720  Alcohol Denat. (Sd Alcohol 39-C)- Fragrance- E...           0   \n",
              "2342   -Complex of Cardiospermum- Echium- and Sunflo...           0   \n",
              "\n",
              "      exclusive  limited_edition  limited_time_offer  \n",
              "3717          0                0                   0  \n",
              "6465          0                0                   0  \n",
              "7061          1                0                   0  \n",
              "5720          0                0                   0  \n",
              "2342          0                0                   0  \n",
              "\n",
              "[5 rows x 21 columns]"
            ],
            "text/html": [
              "\n",
              "  <div id=\"df-92e268b6-5fc9-44f5-aff2-36d9fba5292e\">\n",
              "    <div class=\"colab-df-container\">\n",
              "      <div>\n",
              "<style scoped>\n",
              "    .dataframe tbody tr th:only-of-type {\n",
              "        vertical-align: middle;\n",
              "    }\n",
              "\n",
              "    .dataframe tbody tr th {\n",
              "        vertical-align: top;\n",
              "    }\n",
              "\n",
              "    .dataframe thead th {\n",
              "        text-align: right;\n",
              "    }\n",
              "</style>\n",
              "<table border=\"1\" class=\"dataframe\">\n",
              "  <thead>\n",
              "    <tr style=\"text-align: right;\">\n",
              "      <th></th>\n",
              "      <th>id</th>\n",
              "      <th>brand</th>\n",
              "      <th>category</th>\n",
              "      <th>name</th>\n",
              "      <th>size</th>\n",
              "      <th>rating</th>\n",
              "      <th>number_of_reviews</th>\n",
              "      <th>love</th>\n",
              "      <th>price</th>\n",
              "      <th>value_price</th>\n",
              "      <th>...</th>\n",
              "      <th>MarketingFlags</th>\n",
              "      <th>MarketingFlags_content</th>\n",
              "      <th>options</th>\n",
              "      <th>details</th>\n",
              "      <th>how_to_use</th>\n",
              "      <th>ingredients</th>\n",
              "      <th>online_only</th>\n",
              "      <th>exclusive</th>\n",
              "      <th>limited_edition</th>\n",
              "      <th>limited_time_offer</th>\n",
              "    </tr>\n",
              "  </thead>\n",
              "  <tbody>\n",
              "    <tr>\n",
              "      <th>3717</th>\n",
              "      <td>1874437</td>\n",
              "      <td>ILIA</td>\n",
              "      <td>Lip Balm &amp; Treatment</td>\n",
              "      <td>Balmy Nights</td>\n",
              "      <td>0.14 oz/ 4 g</td>\n",
              "      <td>4.0</td>\n",
              "      <td>31</td>\n",
              "      <td>4700</td>\n",
              "      <td>26.0</td>\n",
              "      <td>26.0</td>\n",
              "      <td>...</td>\n",
              "      <td>False</td>\n",
              "      <td>0</td>\n",
              "      <td>no options</td>\n",
              "      <td>What it is:\\nA lip exfoliator in a convenient ...</td>\n",
              "      <td>Suggested Usage:\\n-Recommended: Use before app...</td>\n",
              "      <td>Helianthus Annuus (Sunflower) Seed Oil*- Sesam...</td>\n",
              "      <td>0</td>\n",
              "      <td>0</td>\n",
              "      <td>0</td>\n",
              "      <td>0</td>\n",
              "    </tr>\n",
              "    <tr>\n",
              "      <th>6465</th>\n",
              "      <td>2301984</td>\n",
              "      <td>Peter Thomas Roth</td>\n",
              "      <td>Eye Creams &amp; Treatments</td>\n",
              "      <td>Vital-E™ Microbiome Age Defense Eye Cream</td>\n",
              "      <td>0.5 oz/ 15 mL</td>\n",
              "      <td>4.5</td>\n",
              "      <td>521</td>\n",
              "      <td>4200</td>\n",
              "      <td>55.0</td>\n",
              "      <td>55.0</td>\n",
              "      <td>...</td>\n",
              "      <td>False</td>\n",
              "      <td>0</td>\n",
              "      <td>no options</td>\n",
              "      <td>What it is:  An anti-pollution- anti-blue ligh...</td>\n",
              "      <td>Suggested Usage:-Melt transforming solid-to-cr...</td>\n",
              "      <td>-Gamma E Antioxidant Technology: Uses unparal...</td>\n",
              "      <td>0</td>\n",
              "      <td>0</td>\n",
              "      <td>0</td>\n",
              "      <td>0</td>\n",
              "    </tr>\n",
              "    <tr>\n",
              "      <th>7061</th>\n",
              "      <td>2164010</td>\n",
              "      <td>SEPHORA COLLECTION</td>\n",
              "      <td>False Eyelashes</td>\n",
              "      <td>One Two Lash Magnetic Lashes</td>\n",
              "      <td>no size</td>\n",
              "      <td>3.5</td>\n",
              "      <td>173</td>\n",
              "      <td>8200</td>\n",
              "      <td>69.0</td>\n",
              "      <td>69.0</td>\n",
              "      <td>...</td>\n",
              "      <td>True</td>\n",
              "      <td>exclusive</td>\n",
              "      <td>no options</td>\n",
              "      <td>What it is: A set of two pairs of easy-to-wear...</td>\n",
              "      <td>Suggested Usage:To apply by hand:-After applyi...</td>\n",
              "      <td>Cruelty-free Synthetic Eyelashes- Micro-magnets</td>\n",
              "      <td>0</td>\n",
              "      <td>1</td>\n",
              "      <td>0</td>\n",
              "      <td>0</td>\n",
              "    </tr>\n",
              "    <tr>\n",
              "      <th>5720</th>\n",
              "      <td>2226801</td>\n",
              "      <td>Moschino</td>\n",
              "      <td>Perfume Gift Sets</td>\n",
              "      <td>MOSCHINO TOY 2 Mini Duo</td>\n",
              "      <td>2 x 0.17oz/5mL</td>\n",
              "      <td>4.0</td>\n",
              "      <td>11</td>\n",
              "      <td>3200</td>\n",
              "      <td>20.0</td>\n",
              "      <td>20.0</td>\n",
              "      <td>...</td>\n",
              "      <td>False</td>\n",
              "      <td>0</td>\n",
              "      <td>no options</td>\n",
              "      <td>Fragrance Family: FreshScent Type: Fresh Flora...</td>\n",
              "      <td>Suggested Usage:-Fragrance is intensified by t...</td>\n",
              "      <td>Alcohol Denat. (Sd Alcohol 39-C)- Fragrance- E...</td>\n",
              "      <td>0</td>\n",
              "      <td>0</td>\n",
              "      <td>0</td>\n",
              "      <td>0</td>\n",
              "    </tr>\n",
              "    <tr>\n",
              "      <th>2342</th>\n",
              "      <td>2269918</td>\n",
              "      <td>Dr. Barbara Sturm</td>\n",
              "      <td>Face Serums</td>\n",
              "      <td>Calming Serum</td>\n",
              "      <td>1 oz/ 30 mL</td>\n",
              "      <td>4.0</td>\n",
              "      <td>6</td>\n",
              "      <td>1100</td>\n",
              "      <td>250.0</td>\n",
              "      <td>250.0</td>\n",
              "      <td>...</td>\n",
              "      <td>False</td>\n",
              "      <td>0</td>\n",
              "      <td>no options</td>\n",
              "      <td>What it is:  \\nAn ultra-soothing- plant-based ...</td>\n",
              "      <td>Suggested Usage:\\n-Use in the morning and even...</td>\n",
              "      <td>-Complex of Cardiospermum- Echium- and Sunflo...</td>\n",
              "      <td>0</td>\n",
              "      <td>0</td>\n",
              "      <td>0</td>\n",
              "      <td>0</td>\n",
              "    </tr>\n",
              "  </tbody>\n",
              "</table>\n",
              "<p>5 rows × 21 columns</p>\n",
              "</div>\n",
              "      <button class=\"colab-df-convert\" onclick=\"convertToInteractive('df-92e268b6-5fc9-44f5-aff2-36d9fba5292e')\"\n",
              "              title=\"Convert this dataframe to an interactive table.\"\n",
              "              style=\"display:none;\">\n",
              "        \n",
              "  <svg xmlns=\"http://www.w3.org/2000/svg\" height=\"24px\"viewBox=\"0 0 24 24\"\n",
              "       width=\"24px\">\n",
              "    <path d=\"M0 0h24v24H0V0z\" fill=\"none\"/>\n",
              "    <path d=\"M18.56 5.44l.94 2.06.94-2.06 2.06-.94-2.06-.94-.94-2.06-.94 2.06-2.06.94zm-11 1L8.5 8.5l.94-2.06 2.06-.94-2.06-.94L8.5 2.5l-.94 2.06-2.06.94zm10 10l.94 2.06.94-2.06 2.06-.94-2.06-.94-.94-2.06-.94 2.06-2.06.94z\"/><path d=\"M17.41 7.96l-1.37-1.37c-.4-.4-.92-.59-1.43-.59-.52 0-1.04.2-1.43.59L10.3 9.45l-7.72 7.72c-.78.78-.78 2.05 0 2.83L4 21.41c.39.39.9.59 1.41.59.51 0 1.02-.2 1.41-.59l7.78-7.78 2.81-2.81c.8-.78.8-2.07 0-2.86zM5.41 20L4 18.59l7.72-7.72 1.47 1.35L5.41 20z\"/>\n",
              "  </svg>\n",
              "      </button>\n",
              "      \n",
              "  <style>\n",
              "    .colab-df-container {\n",
              "      display:flex;\n",
              "      flex-wrap:wrap;\n",
              "      gap: 12px;\n",
              "    }\n",
              "\n",
              "    .colab-df-convert {\n",
              "      background-color: #E8F0FE;\n",
              "      border: none;\n",
              "      border-radius: 50%;\n",
              "      cursor: pointer;\n",
              "      display: none;\n",
              "      fill: #1967D2;\n",
              "      height: 32px;\n",
              "      padding: 0 0 0 0;\n",
              "      width: 32px;\n",
              "    }\n",
              "\n",
              "    .colab-df-convert:hover {\n",
              "      background-color: #E2EBFA;\n",
              "      box-shadow: 0px 1px 2px rgba(60, 64, 67, 0.3), 0px 1px 3px 1px rgba(60, 64, 67, 0.15);\n",
              "      fill: #174EA6;\n",
              "    }\n",
              "\n",
              "    [theme=dark] .colab-df-convert {\n",
              "      background-color: #3B4455;\n",
              "      fill: #D2E3FC;\n",
              "    }\n",
              "\n",
              "    [theme=dark] .colab-df-convert:hover {\n",
              "      background-color: #434B5C;\n",
              "      box-shadow: 0px 1px 3px 1px rgba(0, 0, 0, 0.15);\n",
              "      filter: drop-shadow(0px 1px 2px rgba(0, 0, 0, 0.3));\n",
              "      fill: #FFFFFF;\n",
              "    }\n",
              "  </style>\n",
              "\n",
              "      <script>\n",
              "        const buttonEl =\n",
              "          document.querySelector('#df-92e268b6-5fc9-44f5-aff2-36d9fba5292e button.colab-df-convert');\n",
              "        buttonEl.style.display =\n",
              "          google.colab.kernel.accessAllowed ? 'block' : 'none';\n",
              "\n",
              "        async function convertToInteractive(key) {\n",
              "          const element = document.querySelector('#df-92e268b6-5fc9-44f5-aff2-36d9fba5292e');\n",
              "          const dataTable =\n",
              "            await google.colab.kernel.invokeFunction('convertToInteractive',\n",
              "                                                     [key], {});\n",
              "          if (!dataTable) return;\n",
              "\n",
              "          const docLinkHtml = 'Like what you see? Visit the ' +\n",
              "            '<a target=\"_blank\" href=https://colab.research.google.com/notebooks/data_table.ipynb>data table notebook</a>'\n",
              "            + ' to learn more about interactive tables.';\n",
              "          element.innerHTML = '';\n",
              "          dataTable['output_type'] = 'display_data';\n",
              "          await google.colab.output.renderOutput(dataTable, element);\n",
              "          const docLink = document.createElement('div');\n",
              "          docLink.innerHTML = docLinkHtml;\n",
              "          element.appendChild(docLink);\n",
              "        }\n",
              "      </script>\n",
              "    </div>\n",
              "  </div>\n",
              "  "
            ]
          },
          "metadata": {},
          "execution_count": 164
        }
      ]
    },
    {
      "cell_type": "markdown",
      "source": [
        "Берем информацию о столбцах-признаках\n"
      ],
      "metadata": {
        "id": "9sHk2dIzCvHM"
      }
    },
    {
      "cell_type": "code",
      "source": [
        "data.info()"
      ],
      "metadata": {
        "colab": {
          "base_uri": "https://localhost:8080/"
        },
        "id": "4vscXL6csXOl",
        "outputId": "91a26d8d-0e8a-4f77-89a8-1a4419dc5ab0"
      },
      "execution_count": 9,
      "outputs": [
        {
          "output_type": "stream",
          "name": "stdout",
          "text": [
            "<class 'pandas.core.frame.DataFrame'>\n",
            "RangeIndex: 7766 entries, 0 to 7765\n",
            "Data columns (total 21 columns):\n",
            " #   Column                  Non-Null Count  Dtype  \n",
            "---  ------                  --------------  -----  \n",
            " 0   id                      7766 non-null   int64  \n",
            " 1   brand                   7766 non-null   object \n",
            " 2   category                7766 non-null   object \n",
            " 3   name                    7766 non-null   object \n",
            " 4   size                    7765 non-null   object \n",
            " 5   rating                  7765 non-null   float64\n",
            " 6   number_of_reviews       7765 non-null   float64\n",
            " 7   love                    7765 non-null   float64\n",
            " 8   price                   7765 non-null   float64\n",
            " 9   value_price             7765 non-null   float64\n",
            " 10  URL                     7765 non-null   object \n",
            " 11  MarketingFlags          7765 non-null   object \n",
            " 12  MarketingFlags_content  7765 non-null   object \n",
            " 13  options                 7765 non-null   object \n",
            " 14  details                 7765 non-null   object \n",
            " 15  how_to_use              7765 non-null   object \n",
            " 16  ingredients             7765 non-null   object \n",
            " 17  online_only             7765 non-null   float64\n",
            " 18  exclusive               7765 non-null   float64\n",
            " 19  limited_edition         7765 non-null   float64\n",
            " 20  limited_time_offer      7765 non-null   float64\n",
            "dtypes: float64(9), int64(1), object(11)\n",
            "memory usage: 1.2+ MB\n"
          ]
        }
      ]
    },
    {
      "cell_type": "markdown",
      "source": [
        "Посмотрим на наименования товаров"
      ],
      "metadata": {
        "id": "sOcie690CyzE"
      }
    },
    {
      "cell_type": "code",
      "source": [
        "data.name.value_counts(dropna=False)"
      ],
      "metadata": {
        "colab": {
          "base_uri": "https://localhost:8080/"
        },
        "id": "gSFHXlxvsmX9",
        "outputId": "05ca449a-48af-4d00-bc0b-3c6567712b08"
      },
      "execution_count": 11,
      "outputs": [
        {
          "output_type": "execute_result",
          "data": {
            "text/plain": [
              "Blush                                              4\n",
              "Lipstick                                           3\n",
              "The Foundation Brush                               3\n",
              "Lip Gloss                                          3\n",
              "Discovery Set                                      3\n",
              "                                                  ..\n",
              "On the Rocks Charcoal Scalp Scrub                  1\n",
              "Flat Mate Boar Bristle Brush                       1\n",
              "Blonde Ale Vibrance-Boosting Brightening Powder    1\n",
              "Southern Belle Volume-Boosting Powder              1\n",
              "Good Genes                                         1\n",
              "Name: name, Length: 7720, dtype: int64"
            ]
          },
          "metadata": {},
          "execution_count": 11
        }
      ]
    },
    {
      "cell_type": "markdown",
      "source": [
        "Отдельно посмотрим на числовые переменные"
      ],
      "metadata": {
        "id": "RV4yAz8CC4t-"
      }
    },
    {
      "cell_type": "code",
      "source": [
        "numeric=['int8', 'int16', 'int32', 'int64', 'float16', 'float32', 'float64']\n",
        "df_num=data.select_dtypes(include=numeric)\n",
        "df_num.head(3)"
      ],
      "metadata": {
        "colab": {
          "base_uri": "https://localhost:8080/",
          "height": 143
        },
        "id": "5aOp2ao0ueAs",
        "outputId": "39a352c0-500f-4ace-ba9b-5f7490161b5d"
      },
      "execution_count": 8,
      "outputs": [
        {
          "output_type": "execute_result",
          "data": {
            "text/plain": [
              "        id  rating  number_of_reviews  love  price  value_price  online_only  \\\n",
              "0  2218774     4.0                  4  3002   66.0         75.0          1.0   \n",
              "1  2044816     4.5                 76  2700   66.0         66.0          1.0   \n",
              "2  1417567     4.5                 26  2600  180.0        180.0          1.0   \n",
              "\n",
              "   exclusive  limited_edition  limited_time_offer  \n",
              "0        0.0              0.0                 0.0  \n",
              "1        0.0              0.0                 0.0  \n",
              "2        0.0              0.0                 0.0  "
            ],
            "text/html": [
              "\n",
              "  <div id=\"df-2717f1e6-ca1e-485b-9575-87fc47642907\">\n",
              "    <div class=\"colab-df-container\">\n",
              "      <div>\n",
              "<style scoped>\n",
              "    .dataframe tbody tr th:only-of-type {\n",
              "        vertical-align: middle;\n",
              "    }\n",
              "\n",
              "    .dataframe tbody tr th {\n",
              "        vertical-align: top;\n",
              "    }\n",
              "\n",
              "    .dataframe thead th {\n",
              "        text-align: right;\n",
              "    }\n",
              "</style>\n",
              "<table border=\"1\" class=\"dataframe\">\n",
              "  <thead>\n",
              "    <tr style=\"text-align: right;\">\n",
              "      <th></th>\n",
              "      <th>id</th>\n",
              "      <th>rating</th>\n",
              "      <th>number_of_reviews</th>\n",
              "      <th>love</th>\n",
              "      <th>price</th>\n",
              "      <th>value_price</th>\n",
              "      <th>online_only</th>\n",
              "      <th>exclusive</th>\n",
              "      <th>limited_edition</th>\n",
              "      <th>limited_time_offer</th>\n",
              "    </tr>\n",
              "  </thead>\n",
              "  <tbody>\n",
              "    <tr>\n",
              "      <th>0</th>\n",
              "      <td>2218774</td>\n",
              "      <td>4.0</td>\n",
              "      <td>4</td>\n",
              "      <td>3002</td>\n",
              "      <td>66.0</td>\n",
              "      <td>75.0</td>\n",
              "      <td>1.0</td>\n",
              "      <td>0.0</td>\n",
              "      <td>0.0</td>\n",
              "      <td>0.0</td>\n",
              "    </tr>\n",
              "    <tr>\n",
              "      <th>1</th>\n",
              "      <td>2044816</td>\n",
              "      <td>4.5</td>\n",
              "      <td>76</td>\n",
              "      <td>2700</td>\n",
              "      <td>66.0</td>\n",
              "      <td>66.0</td>\n",
              "      <td>1.0</td>\n",
              "      <td>0.0</td>\n",
              "      <td>0.0</td>\n",
              "      <td>0.0</td>\n",
              "    </tr>\n",
              "    <tr>\n",
              "      <th>2</th>\n",
              "      <td>1417567</td>\n",
              "      <td>4.5</td>\n",
              "      <td>26</td>\n",
              "      <td>2600</td>\n",
              "      <td>180.0</td>\n",
              "      <td>180.0</td>\n",
              "      <td>1.0</td>\n",
              "      <td>0.0</td>\n",
              "      <td>0.0</td>\n",
              "      <td>0.0</td>\n",
              "    </tr>\n",
              "  </tbody>\n",
              "</table>\n",
              "</div>\n",
              "      <button class=\"colab-df-convert\" onclick=\"convertToInteractive('df-2717f1e6-ca1e-485b-9575-87fc47642907')\"\n",
              "              title=\"Convert this dataframe to an interactive table.\"\n",
              "              style=\"display:none;\">\n",
              "        \n",
              "  <svg xmlns=\"http://www.w3.org/2000/svg\" height=\"24px\"viewBox=\"0 0 24 24\"\n",
              "       width=\"24px\">\n",
              "    <path d=\"M0 0h24v24H0V0z\" fill=\"none\"/>\n",
              "    <path d=\"M18.56 5.44l.94 2.06.94-2.06 2.06-.94-2.06-.94-.94-2.06-.94 2.06-2.06.94zm-11 1L8.5 8.5l.94-2.06 2.06-.94-2.06-.94L8.5 2.5l-.94 2.06-2.06.94zm10 10l.94 2.06.94-2.06 2.06-.94-2.06-.94-.94-2.06-.94 2.06-2.06.94z\"/><path d=\"M17.41 7.96l-1.37-1.37c-.4-.4-.92-.59-1.43-.59-.52 0-1.04.2-1.43.59L10.3 9.45l-7.72 7.72c-.78.78-.78 2.05 0 2.83L4 21.41c.39.39.9.59 1.41.59.51 0 1.02-.2 1.41-.59l7.78-7.78 2.81-2.81c.8-.78.8-2.07 0-2.86zM5.41 20L4 18.59l7.72-7.72 1.47 1.35L5.41 20z\"/>\n",
              "  </svg>\n",
              "      </button>\n",
              "      \n",
              "  <style>\n",
              "    .colab-df-container {\n",
              "      display:flex;\n",
              "      flex-wrap:wrap;\n",
              "      gap: 12px;\n",
              "    }\n",
              "\n",
              "    .colab-df-convert {\n",
              "      background-color: #E8F0FE;\n",
              "      border: none;\n",
              "      border-radius: 50%;\n",
              "      cursor: pointer;\n",
              "      display: none;\n",
              "      fill: #1967D2;\n",
              "      height: 32px;\n",
              "      padding: 0 0 0 0;\n",
              "      width: 32px;\n",
              "    }\n",
              "\n",
              "    .colab-df-convert:hover {\n",
              "      background-color: #E2EBFA;\n",
              "      box-shadow: 0px 1px 2px rgba(60, 64, 67, 0.3), 0px 1px 3px 1px rgba(60, 64, 67, 0.15);\n",
              "      fill: #174EA6;\n",
              "    }\n",
              "\n",
              "    [theme=dark] .colab-df-convert {\n",
              "      background-color: #3B4455;\n",
              "      fill: #D2E3FC;\n",
              "    }\n",
              "\n",
              "    [theme=dark] .colab-df-convert:hover {\n",
              "      background-color: #434B5C;\n",
              "      box-shadow: 0px 1px 3px 1px rgba(0, 0, 0, 0.15);\n",
              "      filter: drop-shadow(0px 1px 2px rgba(0, 0, 0, 0.3));\n",
              "      fill: #FFFFFF;\n",
              "    }\n",
              "  </style>\n",
              "\n",
              "      <script>\n",
              "        const buttonEl =\n",
              "          document.querySelector('#df-2717f1e6-ca1e-485b-9575-87fc47642907 button.colab-df-convert');\n",
              "        buttonEl.style.display =\n",
              "          google.colab.kernel.accessAllowed ? 'block' : 'none';\n",
              "\n",
              "        async function convertToInteractive(key) {\n",
              "          const element = document.querySelector('#df-2717f1e6-ca1e-485b-9575-87fc47642907');\n",
              "          const dataTable =\n",
              "            await google.colab.kernel.invokeFunction('convertToInteractive',\n",
              "                                                     [key], {});\n",
              "          if (!dataTable) return;\n",
              "\n",
              "          const docLinkHtml = 'Like what you see? Visit the ' +\n",
              "            '<a target=\"_blank\" href=https://colab.research.google.com/notebooks/data_table.ipynb>data table notebook</a>'\n",
              "            + ' to learn more about interactive tables.';\n",
              "          element.innerHTML = '';\n",
              "          dataTable['output_type'] = 'display_data';\n",
              "          await google.colab.output.renderOutput(dataTable, element);\n",
              "          const docLink = document.createElement('div');\n",
              "          docLink.innerHTML = docLinkHtml;\n",
              "          element.appendChild(docLink);\n",
              "        }\n",
              "      </script>\n",
              "    </div>\n",
              "  </div>\n",
              "  "
            ]
          },
          "metadata": {},
          "execution_count": 8
        }
      ]
    },
    {
      "cell_type": "markdown",
      "source": [
        "Удаляем столбец идентификатора из датафрейма с числовыми признаками"
      ],
      "metadata": {
        "id": "ANRs4erODAsm"
      }
    },
    {
      "cell_type": "code",
      "source": [
        "df_num.drop(\"id\", axis=1, inplace=True)"
      ],
      "metadata": {
        "id": "t-ftO00exHcs"
      },
      "execution_count": 9,
      "outputs": []
    },
    {
      "cell_type": "markdown",
      "source": [
        "Выводим среднее, стандартное отклонение, минимум, максимум и межквартильные диапазоны для числовых признаков"
      ],
      "metadata": {
        "id": "yYzAPHHJDFHm"
      }
    },
    {
      "cell_type": "code",
      "source": [
        "df_num.describe()"
      ],
      "metadata": {
        "colab": {
          "base_uri": "https://localhost:8080/",
          "height": 300
        },
        "id": "fCMWE5K6xSGT",
        "outputId": "6902e2da-c6d2-4cf0-8f3f-79c37d0b2c24"
      },
      "execution_count": 75,
      "outputs": [
        {
          "output_type": "execute_result",
          "data": {
            "text/plain": [
              "            rating  number_of_reviews          love        price  value_price  \\\n",
              "count  7765.000000        7765.000000  7.765000e+03  7765.000000  7765.000000   \n",
              "mean      4.008757         282.647778  1.589702e+04    50.129531    51.929005   \n",
              "std       0.976930         870.373910  4.227677e+04    46.221270    48.656629   \n",
              "min       0.000000           0.000000  0.000000e+00     2.000000     2.000000   \n",
              "25%       4.000000          11.000000  1.700000e+03    25.000000    25.000000   \n",
              "50%       4.000000          50.000000  4.900000e+03    35.000000    36.000000   \n",
              "75%       4.500000         216.000000  1.360000e+04    59.000000    60.000000   \n",
              "max       5.000000       19000.000000  1.300000e+06   549.000000   549.000000   \n",
              "\n",
              "       online_only    exclusive  limited_edition  limited_time_offer  \n",
              "count  7765.000000  7765.000000      7765.000000         7765.000000  \n",
              "mean      0.243400     0.258983         0.086929            0.000386  \n",
              "std       0.429162     0.438104         0.281748            0.019653  \n",
              "min       0.000000     0.000000         0.000000            0.000000  \n",
              "25%       0.000000     0.000000         0.000000            0.000000  \n",
              "50%       0.000000     0.000000         0.000000            0.000000  \n",
              "75%       0.000000     1.000000         0.000000            0.000000  \n",
              "max       1.000000     1.000000         1.000000            1.000000  "
            ],
            "text/html": [
              "\n",
              "  <div id=\"df-ec22c63f-a426-4e9a-8806-0c7b2053f8f3\">\n",
              "    <div class=\"colab-df-container\">\n",
              "      <div>\n",
              "<style scoped>\n",
              "    .dataframe tbody tr th:only-of-type {\n",
              "        vertical-align: middle;\n",
              "    }\n",
              "\n",
              "    .dataframe tbody tr th {\n",
              "        vertical-align: top;\n",
              "    }\n",
              "\n",
              "    .dataframe thead th {\n",
              "        text-align: right;\n",
              "    }\n",
              "</style>\n",
              "<table border=\"1\" class=\"dataframe\">\n",
              "  <thead>\n",
              "    <tr style=\"text-align: right;\">\n",
              "      <th></th>\n",
              "      <th>rating</th>\n",
              "      <th>number_of_reviews</th>\n",
              "      <th>love</th>\n",
              "      <th>price</th>\n",
              "      <th>value_price</th>\n",
              "      <th>online_only</th>\n",
              "      <th>exclusive</th>\n",
              "      <th>limited_edition</th>\n",
              "      <th>limited_time_offer</th>\n",
              "    </tr>\n",
              "  </thead>\n",
              "  <tbody>\n",
              "    <tr>\n",
              "      <th>count</th>\n",
              "      <td>7765.000000</td>\n",
              "      <td>7765.000000</td>\n",
              "      <td>7.765000e+03</td>\n",
              "      <td>7765.000000</td>\n",
              "      <td>7765.000000</td>\n",
              "      <td>7765.000000</td>\n",
              "      <td>7765.000000</td>\n",
              "      <td>7765.000000</td>\n",
              "      <td>7765.000000</td>\n",
              "    </tr>\n",
              "    <tr>\n",
              "      <th>mean</th>\n",
              "      <td>4.008757</td>\n",
              "      <td>282.647778</td>\n",
              "      <td>1.589702e+04</td>\n",
              "      <td>50.129531</td>\n",
              "      <td>51.929005</td>\n",
              "      <td>0.243400</td>\n",
              "      <td>0.258983</td>\n",
              "      <td>0.086929</td>\n",
              "      <td>0.000386</td>\n",
              "    </tr>\n",
              "    <tr>\n",
              "      <th>std</th>\n",
              "      <td>0.976930</td>\n",
              "      <td>870.373910</td>\n",
              "      <td>4.227677e+04</td>\n",
              "      <td>46.221270</td>\n",
              "      <td>48.656629</td>\n",
              "      <td>0.429162</td>\n",
              "      <td>0.438104</td>\n",
              "      <td>0.281748</td>\n",
              "      <td>0.019653</td>\n",
              "    </tr>\n",
              "    <tr>\n",
              "      <th>min</th>\n",
              "      <td>0.000000</td>\n",
              "      <td>0.000000</td>\n",
              "      <td>0.000000e+00</td>\n",
              "      <td>2.000000</td>\n",
              "      <td>2.000000</td>\n",
              "      <td>0.000000</td>\n",
              "      <td>0.000000</td>\n",
              "      <td>0.000000</td>\n",
              "      <td>0.000000</td>\n",
              "    </tr>\n",
              "    <tr>\n",
              "      <th>25%</th>\n",
              "      <td>4.000000</td>\n",
              "      <td>11.000000</td>\n",
              "      <td>1.700000e+03</td>\n",
              "      <td>25.000000</td>\n",
              "      <td>25.000000</td>\n",
              "      <td>0.000000</td>\n",
              "      <td>0.000000</td>\n",
              "      <td>0.000000</td>\n",
              "      <td>0.000000</td>\n",
              "    </tr>\n",
              "    <tr>\n",
              "      <th>50%</th>\n",
              "      <td>4.000000</td>\n",
              "      <td>50.000000</td>\n",
              "      <td>4.900000e+03</td>\n",
              "      <td>35.000000</td>\n",
              "      <td>36.000000</td>\n",
              "      <td>0.000000</td>\n",
              "      <td>0.000000</td>\n",
              "      <td>0.000000</td>\n",
              "      <td>0.000000</td>\n",
              "    </tr>\n",
              "    <tr>\n",
              "      <th>75%</th>\n",
              "      <td>4.500000</td>\n",
              "      <td>216.000000</td>\n",
              "      <td>1.360000e+04</td>\n",
              "      <td>59.000000</td>\n",
              "      <td>60.000000</td>\n",
              "      <td>0.000000</td>\n",
              "      <td>1.000000</td>\n",
              "      <td>0.000000</td>\n",
              "      <td>0.000000</td>\n",
              "    </tr>\n",
              "    <tr>\n",
              "      <th>max</th>\n",
              "      <td>5.000000</td>\n",
              "      <td>19000.000000</td>\n",
              "      <td>1.300000e+06</td>\n",
              "      <td>549.000000</td>\n",
              "      <td>549.000000</td>\n",
              "      <td>1.000000</td>\n",
              "      <td>1.000000</td>\n",
              "      <td>1.000000</td>\n",
              "      <td>1.000000</td>\n",
              "    </tr>\n",
              "  </tbody>\n",
              "</table>\n",
              "</div>\n",
              "      <button class=\"colab-df-convert\" onclick=\"convertToInteractive('df-ec22c63f-a426-4e9a-8806-0c7b2053f8f3')\"\n",
              "              title=\"Convert this dataframe to an interactive table.\"\n",
              "              style=\"display:none;\">\n",
              "        \n",
              "  <svg xmlns=\"http://www.w3.org/2000/svg\" height=\"24px\"viewBox=\"0 0 24 24\"\n",
              "       width=\"24px\">\n",
              "    <path d=\"M0 0h24v24H0V0z\" fill=\"none\"/>\n",
              "    <path d=\"M18.56 5.44l.94 2.06.94-2.06 2.06-.94-2.06-.94-.94-2.06-.94 2.06-2.06.94zm-11 1L8.5 8.5l.94-2.06 2.06-.94-2.06-.94L8.5 2.5l-.94 2.06-2.06.94zm10 10l.94 2.06.94-2.06 2.06-.94-2.06-.94-.94-2.06-.94 2.06-2.06.94z\"/><path d=\"M17.41 7.96l-1.37-1.37c-.4-.4-.92-.59-1.43-.59-.52 0-1.04.2-1.43.59L10.3 9.45l-7.72 7.72c-.78.78-.78 2.05 0 2.83L4 21.41c.39.39.9.59 1.41.59.51 0 1.02-.2 1.41-.59l7.78-7.78 2.81-2.81c.8-.78.8-2.07 0-2.86zM5.41 20L4 18.59l7.72-7.72 1.47 1.35L5.41 20z\"/>\n",
              "  </svg>\n",
              "      </button>\n",
              "      \n",
              "  <style>\n",
              "    .colab-df-container {\n",
              "      display:flex;\n",
              "      flex-wrap:wrap;\n",
              "      gap: 12px;\n",
              "    }\n",
              "\n",
              "    .colab-df-convert {\n",
              "      background-color: #E8F0FE;\n",
              "      border: none;\n",
              "      border-radius: 50%;\n",
              "      cursor: pointer;\n",
              "      display: none;\n",
              "      fill: #1967D2;\n",
              "      height: 32px;\n",
              "      padding: 0 0 0 0;\n",
              "      width: 32px;\n",
              "    }\n",
              "\n",
              "    .colab-df-convert:hover {\n",
              "      background-color: #E2EBFA;\n",
              "      box-shadow: 0px 1px 2px rgba(60, 64, 67, 0.3), 0px 1px 3px 1px rgba(60, 64, 67, 0.15);\n",
              "      fill: #174EA6;\n",
              "    }\n",
              "\n",
              "    [theme=dark] .colab-df-convert {\n",
              "      background-color: #3B4455;\n",
              "      fill: #D2E3FC;\n",
              "    }\n",
              "\n",
              "    [theme=dark] .colab-df-convert:hover {\n",
              "      background-color: #434B5C;\n",
              "      box-shadow: 0px 1px 3px 1px rgba(0, 0, 0, 0.15);\n",
              "      filter: drop-shadow(0px 1px 2px rgba(0, 0, 0, 0.3));\n",
              "      fill: #FFFFFF;\n",
              "    }\n",
              "  </style>\n",
              "\n",
              "      <script>\n",
              "        const buttonEl =\n",
              "          document.querySelector('#df-ec22c63f-a426-4e9a-8806-0c7b2053f8f3 button.colab-df-convert');\n",
              "        buttonEl.style.display =\n",
              "          google.colab.kernel.accessAllowed ? 'block' : 'none';\n",
              "\n",
              "        async function convertToInteractive(key) {\n",
              "          const element = document.querySelector('#df-ec22c63f-a426-4e9a-8806-0c7b2053f8f3');\n",
              "          const dataTable =\n",
              "            await google.colab.kernel.invokeFunction('convertToInteractive',\n",
              "                                                     [key], {});\n",
              "          if (!dataTable) return;\n",
              "\n",
              "          const docLinkHtml = 'Like what you see? Visit the ' +\n",
              "            '<a target=\"_blank\" href=https://colab.research.google.com/notebooks/data_table.ipynb>data table notebook</a>'\n",
              "            + ' to learn more about interactive tables.';\n",
              "          element.innerHTML = '';\n",
              "          dataTable['output_type'] = 'display_data';\n",
              "          await google.colab.output.renderOutput(dataTable, element);\n",
              "          const docLink = document.createElement('div');\n",
              "          docLink.innerHTML = docLinkHtml;\n",
              "          element.appendChild(docLink);\n",
              "        }\n",
              "      </script>\n",
              "    </div>\n",
              "  </div>\n",
              "  "
            ]
          },
          "metadata": {},
          "execution_count": 75
        }
      ]
    },
    {
      "cell_type": "code",
      "source": [
        "print(\"Среднее значение по численным признакам: \", df_num.mean(axis=0, numeric_only=True))\n",
        "print(\"Медиана по численным признакам: \", df_num.median(axis=0, numeric_only=True))"
      ],
      "metadata": {
        "colab": {
          "base_uri": "https://localhost:8080/"
        },
        "id": "FGaFg3fJ76cz",
        "outputId": "24570d89-24f3-4f95-a4c1-3755d4fba59b"
      },
      "execution_count": 10,
      "outputs": [
        {
          "output_type": "stream",
          "name": "stdout",
          "text": [
            "Среднее значение по численным признакам:  rating                    4.025108\n",
            "number_of_reviews       305.164515\n",
            "love                  15472.013391\n",
            "price                    49.578910\n",
            "value_price              51.477762\n",
            "online_only               0.241148\n",
            "exclusive                 0.147847\n",
            "limited_edition           0.085167\n",
            "limited_time_offer        0.000957\n",
            "dtype: float64\n",
            "Медиана по численным признакам:  rating                   4.0\n",
            "number_of_reviews       56.0\n",
            "love                  4700.0\n",
            "price                   34.0\n",
            "value_price             36.0\n",
            "online_only              0.0\n",
            "exclusive                0.0\n",
            "limited_edition          0.0\n",
            "limited_time_offer       0.0\n",
            "dtype: float64\n"
          ]
        }
      ]
    },
    {
      "cell_type": "code",
      "source": [
        "print(\"Мода по численным признакам: \", df_num.mode())"
      ],
      "metadata": {
        "colab": {
          "base_uri": "https://localhost:8080/"
        },
        "id": "huHsOalI7-mh",
        "outputId": "e71bf994-c2be-4bd3-f59e-4bcf8d3dbdf9"
      },
      "execution_count": 11,
      "outputs": [
        {
          "output_type": "stream",
          "name": "stdout",
          "text": [
            "Мода по численным признакам:     rating  number_of_reviews  love  price  value_price  online_only  \\\n",
            "0     4.5               1000  1500   25.0         25.0          0.0   \n",
            "\n",
            "   exclusive  limited_edition  limited_time_offer  \n",
            "0        0.0              0.0                 0.0  \n"
          ]
        }
      ]
    },
    {
      "cell_type": "markdown",
      "source": [
        "Рассмотрим корреляцию между признаками\n"
      ],
      "metadata": {
        "id": "BUgXfZW_DM9G"
      }
    },
    {
      "cell_type": "code",
      "source": [
        "df_num.corr()"
      ],
      "metadata": {
        "colab": {
          "base_uri": "https://localhost:8080/",
          "height": 332
        },
        "id": "o0p5AFk-tRd1",
        "outputId": "1675ab67-7da8-4c88-8cf2-1201c8605766"
      },
      "execution_count": 160,
      "outputs": [
        {
          "output_type": "execute_result",
          "data": {
            "text/plain": [
              "                      rating  number_of_reviews      love     price  \\\n",
              "rating              1.000000           0.083341  0.090158  0.006148   \n",
              "number_of_reviews   0.083341           1.000000  0.752814 -0.089047   \n",
              "love                0.090158           0.752814  1.000000 -0.091090   \n",
              "price               0.006148          -0.089047 -0.091090  1.000000   \n",
              "value_price        -0.013965          -0.094407 -0.093241  0.982303   \n",
              "online_only        -0.137183          -0.142167 -0.137933  0.122468   \n",
              "exclusive           0.007340           0.021479  0.070707 -0.163717   \n",
              "limited_edition    -0.143148          -0.067116 -0.042840  0.033732   \n",
              "limited_time_offer  0.006532           0.000814 -0.002975 -0.010760   \n",
              "\n",
              "                    value_price  online_only  exclusive  limited_edition  \\\n",
              "rating                -0.013965    -0.137183   0.007340        -0.143148   \n",
              "number_of_reviews     -0.094407    -0.142167   0.021479        -0.067116   \n",
              "love                  -0.093241    -0.137933   0.070707        -0.042840   \n",
              "price                  0.982303     0.122468  -0.163717         0.033732   \n",
              "value_price            1.000000     0.136960  -0.142380         0.103902   \n",
              "online_only            0.136960     1.000000  -0.064036         0.114728   \n",
              "exclusive             -0.142380    -0.064036   1.000000         0.160888   \n",
              "limited_edition        0.103902     0.114728   0.160888         1.000000   \n",
              "limited_time_offer    -0.010949    -0.011151   0.003337         0.017194   \n",
              "\n",
              "                    limited_time_offer  \n",
              "rating                        0.006532  \n",
              "number_of_reviews             0.000814  \n",
              "love                         -0.002975  \n",
              "price                        -0.010760  \n",
              "value_price                  -0.010949  \n",
              "online_only                  -0.011151  \n",
              "exclusive                     0.003337  \n",
              "limited_edition               0.017194  \n",
              "limited_time_offer            1.000000  "
            ],
            "text/html": [
              "\n",
              "  <div id=\"df-4643354a-36a7-472e-b621-e41b3da179e7\">\n",
              "    <div class=\"colab-df-container\">\n",
              "      <div>\n",
              "<style scoped>\n",
              "    .dataframe tbody tr th:only-of-type {\n",
              "        vertical-align: middle;\n",
              "    }\n",
              "\n",
              "    .dataframe tbody tr th {\n",
              "        vertical-align: top;\n",
              "    }\n",
              "\n",
              "    .dataframe thead th {\n",
              "        text-align: right;\n",
              "    }\n",
              "</style>\n",
              "<table border=\"1\" class=\"dataframe\">\n",
              "  <thead>\n",
              "    <tr style=\"text-align: right;\">\n",
              "      <th></th>\n",
              "      <th>rating</th>\n",
              "      <th>number_of_reviews</th>\n",
              "      <th>love</th>\n",
              "      <th>price</th>\n",
              "      <th>value_price</th>\n",
              "      <th>online_only</th>\n",
              "      <th>exclusive</th>\n",
              "      <th>limited_edition</th>\n",
              "      <th>limited_time_offer</th>\n",
              "    </tr>\n",
              "  </thead>\n",
              "  <tbody>\n",
              "    <tr>\n",
              "      <th>rating</th>\n",
              "      <td>1.000000</td>\n",
              "      <td>0.083341</td>\n",
              "      <td>0.090158</td>\n",
              "      <td>0.006148</td>\n",
              "      <td>-0.013965</td>\n",
              "      <td>-0.137183</td>\n",
              "      <td>0.007340</td>\n",
              "      <td>-0.143148</td>\n",
              "      <td>0.006532</td>\n",
              "    </tr>\n",
              "    <tr>\n",
              "      <th>number_of_reviews</th>\n",
              "      <td>0.083341</td>\n",
              "      <td>1.000000</td>\n",
              "      <td>0.752814</td>\n",
              "      <td>-0.089047</td>\n",
              "      <td>-0.094407</td>\n",
              "      <td>-0.142167</td>\n",
              "      <td>0.021479</td>\n",
              "      <td>-0.067116</td>\n",
              "      <td>0.000814</td>\n",
              "    </tr>\n",
              "    <tr>\n",
              "      <th>love</th>\n",
              "      <td>0.090158</td>\n",
              "      <td>0.752814</td>\n",
              "      <td>1.000000</td>\n",
              "      <td>-0.091090</td>\n",
              "      <td>-0.093241</td>\n",
              "      <td>-0.137933</td>\n",
              "      <td>0.070707</td>\n",
              "      <td>-0.042840</td>\n",
              "      <td>-0.002975</td>\n",
              "    </tr>\n",
              "    <tr>\n",
              "      <th>price</th>\n",
              "      <td>0.006148</td>\n",
              "      <td>-0.089047</td>\n",
              "      <td>-0.091090</td>\n",
              "      <td>1.000000</td>\n",
              "      <td>0.982303</td>\n",
              "      <td>0.122468</td>\n",
              "      <td>-0.163717</td>\n",
              "      <td>0.033732</td>\n",
              "      <td>-0.010760</td>\n",
              "    </tr>\n",
              "    <tr>\n",
              "      <th>value_price</th>\n",
              "      <td>-0.013965</td>\n",
              "      <td>-0.094407</td>\n",
              "      <td>-0.093241</td>\n",
              "      <td>0.982303</td>\n",
              "      <td>1.000000</td>\n",
              "      <td>0.136960</td>\n",
              "      <td>-0.142380</td>\n",
              "      <td>0.103902</td>\n",
              "      <td>-0.010949</td>\n",
              "    </tr>\n",
              "    <tr>\n",
              "      <th>online_only</th>\n",
              "      <td>-0.137183</td>\n",
              "      <td>-0.142167</td>\n",
              "      <td>-0.137933</td>\n",
              "      <td>0.122468</td>\n",
              "      <td>0.136960</td>\n",
              "      <td>1.000000</td>\n",
              "      <td>-0.064036</td>\n",
              "      <td>0.114728</td>\n",
              "      <td>-0.011151</td>\n",
              "    </tr>\n",
              "    <tr>\n",
              "      <th>exclusive</th>\n",
              "      <td>0.007340</td>\n",
              "      <td>0.021479</td>\n",
              "      <td>0.070707</td>\n",
              "      <td>-0.163717</td>\n",
              "      <td>-0.142380</td>\n",
              "      <td>-0.064036</td>\n",
              "      <td>1.000000</td>\n",
              "      <td>0.160888</td>\n",
              "      <td>0.003337</td>\n",
              "    </tr>\n",
              "    <tr>\n",
              "      <th>limited_edition</th>\n",
              "      <td>-0.143148</td>\n",
              "      <td>-0.067116</td>\n",
              "      <td>-0.042840</td>\n",
              "      <td>0.033732</td>\n",
              "      <td>0.103902</td>\n",
              "      <td>0.114728</td>\n",
              "      <td>0.160888</td>\n",
              "      <td>1.000000</td>\n",
              "      <td>0.017194</td>\n",
              "    </tr>\n",
              "    <tr>\n",
              "      <th>limited_time_offer</th>\n",
              "      <td>0.006532</td>\n",
              "      <td>0.000814</td>\n",
              "      <td>-0.002975</td>\n",
              "      <td>-0.010760</td>\n",
              "      <td>-0.010949</td>\n",
              "      <td>-0.011151</td>\n",
              "      <td>0.003337</td>\n",
              "      <td>0.017194</td>\n",
              "      <td>1.000000</td>\n",
              "    </tr>\n",
              "  </tbody>\n",
              "</table>\n",
              "</div>\n",
              "      <button class=\"colab-df-convert\" onclick=\"convertToInteractive('df-4643354a-36a7-472e-b621-e41b3da179e7')\"\n",
              "              title=\"Convert this dataframe to an interactive table.\"\n",
              "              style=\"display:none;\">\n",
              "        \n",
              "  <svg xmlns=\"http://www.w3.org/2000/svg\" height=\"24px\"viewBox=\"0 0 24 24\"\n",
              "       width=\"24px\">\n",
              "    <path d=\"M0 0h24v24H0V0z\" fill=\"none\"/>\n",
              "    <path d=\"M18.56 5.44l.94 2.06.94-2.06 2.06-.94-2.06-.94-.94-2.06-.94 2.06-2.06.94zm-11 1L8.5 8.5l.94-2.06 2.06-.94-2.06-.94L8.5 2.5l-.94 2.06-2.06.94zm10 10l.94 2.06.94-2.06 2.06-.94-2.06-.94-.94-2.06-.94 2.06-2.06.94z\"/><path d=\"M17.41 7.96l-1.37-1.37c-.4-.4-.92-.59-1.43-.59-.52 0-1.04.2-1.43.59L10.3 9.45l-7.72 7.72c-.78.78-.78 2.05 0 2.83L4 21.41c.39.39.9.59 1.41.59.51 0 1.02-.2 1.41-.59l7.78-7.78 2.81-2.81c.8-.78.8-2.07 0-2.86zM5.41 20L4 18.59l7.72-7.72 1.47 1.35L5.41 20z\"/>\n",
              "  </svg>\n",
              "      </button>\n",
              "      \n",
              "  <style>\n",
              "    .colab-df-container {\n",
              "      display:flex;\n",
              "      flex-wrap:wrap;\n",
              "      gap: 12px;\n",
              "    }\n",
              "\n",
              "    .colab-df-convert {\n",
              "      background-color: #E8F0FE;\n",
              "      border: none;\n",
              "      border-radius: 50%;\n",
              "      cursor: pointer;\n",
              "      display: none;\n",
              "      fill: #1967D2;\n",
              "      height: 32px;\n",
              "      padding: 0 0 0 0;\n",
              "      width: 32px;\n",
              "    }\n",
              "\n",
              "    .colab-df-convert:hover {\n",
              "      background-color: #E2EBFA;\n",
              "      box-shadow: 0px 1px 2px rgba(60, 64, 67, 0.3), 0px 1px 3px 1px rgba(60, 64, 67, 0.15);\n",
              "      fill: #174EA6;\n",
              "    }\n",
              "\n",
              "    [theme=dark] .colab-df-convert {\n",
              "      background-color: #3B4455;\n",
              "      fill: #D2E3FC;\n",
              "    }\n",
              "\n",
              "    [theme=dark] .colab-df-convert:hover {\n",
              "      background-color: #434B5C;\n",
              "      box-shadow: 0px 1px 3px 1px rgba(0, 0, 0, 0.15);\n",
              "      filter: drop-shadow(0px 1px 2px rgba(0, 0, 0, 0.3));\n",
              "      fill: #FFFFFF;\n",
              "    }\n",
              "  </style>\n",
              "\n",
              "      <script>\n",
              "        const buttonEl =\n",
              "          document.querySelector('#df-4643354a-36a7-472e-b621-e41b3da179e7 button.colab-df-convert');\n",
              "        buttonEl.style.display =\n",
              "          google.colab.kernel.accessAllowed ? 'block' : 'none';\n",
              "\n",
              "        async function convertToInteractive(key) {\n",
              "          const element = document.querySelector('#df-4643354a-36a7-472e-b621-e41b3da179e7');\n",
              "          const dataTable =\n",
              "            await google.colab.kernel.invokeFunction('convertToInteractive',\n",
              "                                                     [key], {});\n",
              "          if (!dataTable) return;\n",
              "\n",
              "          const docLinkHtml = 'Like what you see? Visit the ' +\n",
              "            '<a target=\"_blank\" href=https://colab.research.google.com/notebooks/data_table.ipynb>data table notebook</a>'\n",
              "            + ' to learn more about interactive tables.';\n",
              "          element.innerHTML = '';\n",
              "          dataTable['output_type'] = 'display_data';\n",
              "          await google.colab.output.renderOutput(dataTable, element);\n",
              "          const docLink = document.createElement('div');\n",
              "          docLink.innerHTML = docLinkHtml;\n",
              "          element.appendChild(docLink);\n",
              "        }\n",
              "      </script>\n",
              "    </div>\n",
              "  </div>\n",
              "  "
            ]
          },
          "metadata": {},
          "execution_count": 160
        }
      ]
    },
    {
      "cell_type": "markdown",
      "source": [
        "Построим для наглядности тепловую карту коррелирующих признаков"
      ],
      "metadata": {
        "id": "CYy7-K90DRH-"
      }
    },
    {
      "cell_type": "code",
      "source": [
        "plt.figure(figsize=(9,9))\n",
        "sns.heatmap(df_num.corr(),annot=True)"
      ],
      "metadata": {
        "colab": {
          "base_uri": "https://localhost:8080/",
          "height": 645
        },
        "id": "LHw91dRWti0m",
        "outputId": "891ab803-d0a5-4473-b5bf-b7e214de93f3"
      },
      "execution_count": 110,
      "outputs": [
        {
          "output_type": "execute_result",
          "data": {
            "text/plain": [
              "<matplotlib.axes._subplots.AxesSubplot at 0x7f949c6e26a0>"
            ]
          },
          "metadata": {},
          "execution_count": 110
        },
        {
          "output_type": "display_data",
          "data": {
            "text/plain": [
              "<Figure size 648x648 with 2 Axes>"
            ],
            "image/png": "[encoded data removed]"
          },
          "metadata": {
            "needs_background": "light"
          }
        }
      ]
    },
    {
      "cell_type": "markdown",
      "source": [
        "Вывод:\n",
        "\n",
        "цена на товар и цена на товар со скидкой сильно коррелируют между собой, это связано с тем, что в большинстве случаев значения этих двух признаков совпадают между собой. \n",
        "\n",
        "Количество отзывов и количество лайков хорошо коррелируют, получается, что чем больше отзывов, тем больше лайков и наоборот, это также говорит о необходимости либо ввода нового признака вместо двух, либо удаления одного из них.\n",
        "\n",
        "Рейтинг товара и количество отзывов отрицательно коррелируют. Получается, что чем больше товаров продается онлайн, тем меньше отзывов о нем оставляют потребители."
      ],
      "metadata": {
        "id": "2lNWTvjiDVfr"
      }
    },
    {
      "cell_type": "markdown",
      "source": [
        "Визуализируем данные по брендам"
      ],
      "metadata": {
        "id": "lb2n3lK8Et7-"
      }
    },
    {
      "cell_type": "code",
      "source": [
        "top_5_brands = data.loc[data.rating== 5]\n",
        "top_5_brands.groupby(['brand','rating']).agg(lambda x: x.value_counts().index[0])[:5]"
      ],
      "metadata": {
        "colab": {
          "base_uri": "https://localhost:8080/",
          "height": 718
        },
        "id": "WQG8J4FX3Wuy",
        "outputId": "47811889-6865-49e7-b5ba-da3d631a6d33"
      },
      "execution_count": 156,
      "outputs": [
        {
          "output_type": "execute_result",
          "data": {
            "text/plain": [
              "                              id               category  \\\n",
              "brand            rating                                   \n",
              "AERIN            5.0     1699222                Perfume   \n",
              "ALTERNA Haircare 5.0     2140374  Hair Styling Products   \n",
              "AMOREPACIFIC     5.0     2150225      Value & Gift Sets   \n",
              "Acqua Di Parma   5.0     1284462      Perfume Gift Sets   \n",
              "Aether Beauty    5.0     2189975           Eye Palettes   \n",
              "\n",
              "                                                                      name  \\\n",
              "brand            rating                                                      \n",
              "AERIN            5.0                                        Rose De Grasse   \n",
              "ALTERNA Haircare 5.0     CAVIAR Anti-Aging® Infinite Color Hold Topcoat...   \n",
              "AMOREPACIFIC     5.0                      TIME RESPONSE Skin Reserve Crème   \n",
              "Acqua Di Parma   5.0                                       Colonia Essenza   \n",
              "Aether Beauty    5.0                            Solstice Eyeshadow Palette   \n",
              "\n",
              "                                   size  number_of_reviews    love  price  \\\n",
              "brand            rating                                                     \n",
              "AERIN            5.0      1.7 oz/ 50 mL               12.0  1700.0  235.0   \n",
              "ALTERNA Haircare 5.0     4.2 oz/ 125 mL               16.0  2400.0   32.0   \n",
              "AMOREPACIFIC     5.0            no size                8.0  1100.0  150.0   \n",
              "Acqua Di Parma   5.0            no size                1.0   719.0  120.0   \n",
              "Aether Beauty    5.0            no size              116.0  6100.0   58.0   \n",
              "\n",
              "                         value_price  \\\n",
              "brand            rating                \n",
              "AERIN            5.0           235.0   \n",
              "ALTERNA Haircare 5.0            32.0   \n",
              "AMOREPACIFIC     5.0           150.0   \n",
              "Acqua Di Parma   5.0           120.0   \n",
              "Aether Beauty    5.0            58.0   \n",
              "\n",
              "                                                                       URL  \\\n",
              "brand            rating                                                      \n",
              "AERIN            5.0     https://www.sephora.com/product/rose-de-grasse...   \n",
              "ALTERNA Haircare 5.0     https://www.sephora.com/product/caviar-infinit...   \n",
              "AMOREPACIFIC     5.0     https://www.sephora.com/product/time-response-...   \n",
              "Acqua Di Parma   5.0     https://www.sephora.com/product/colonia-essenz...   \n",
              "Aether Beauty    5.0     https://www.sephora.com/product/summer-solstic...   \n",
              "\n",
              "                         MarketingFlags MarketingFlags_content  \\\n",
              "brand            rating                                          \n",
              "AERIN            5.0               True            online only   \n",
              "ALTERNA Haircare 5.0               True            online only   \n",
              "AMOREPACIFIC     5.0               True            online only   \n",
              "Acqua Di Parma   5.0               True            online only   \n",
              "Aether Beauty    5.0              False                      0   \n",
              "\n",
              "                                                                   options  \\\n",
              "brand            rating                                                      \n",
              "AERIN            5.0      - 1.7 oz/ 50 mL Eau de Parfum Spray  - 3.4 oz...   \n",
              "ALTERNA Haircare 5.0                                            no options   \n",
              "AMOREPACIFIC     5.0                                            no options   \n",
              "Acqua Di Parma   5.0                                            no options   \n",
              "Aether Beauty    5.0                                            no options   \n",
              "\n",
              "                                                                   details  \\\n",
              "brand            rating                                                      \n",
              "AERIN            5.0     Fragrance Family:\\n Floral\\n\\nScent Type:\\n Cl...   \n",
              "ALTERNA Haircare 5.0     Which hair type is it good for?✔ Straight✔ Wav...   \n",
              "AMOREPACIFIC     5.0     What it is:  A luxurious anti-aging face cream...   \n",
              "Acqua Di Parma   5.0     The newest Eau de Cologne from Acqua di Parma ...   \n",
              "Aether Beauty    5.0     What it is: A palette of 12 golden hour shades...   \n",
              "\n",
              "                                                                how_to_use  \\\n",
              "brand            rating                                                      \n",
              "AERIN            5.0                                       no instructions   \n",
              "ALTERNA Haircare 5.0     Suggested Usage:-Spray evenly through dry hair...   \n",
              "AMOREPACIFIC     5.0     Suggested Usage:-Scoop a dime-sized amount of ...   \n",
              "Acqua Di Parma   5.0     Suggested Usage:-Fragrance is intensified by t...   \n",
              "Aether Beauty    5.0                                       no instructions   \n",
              "\n",
              "                                                               ingredients  \\\n",
              "brand            rating                                                      \n",
              "AERIN            5.0                                               unknown   \n",
              "ALTERNA Haircare 5.0      -Red Raspberry Leaf Oil and Sunflower Seed Oi...   \n",
              "AMOREPACIFIC     5.0     Camellia Sinensis Leaf Water- Butylene Glycol-...   \n",
              "Acqua Di Parma   5.0     Alcohol Denat.- Water- Fragrance- Limonene- Hy...   \n",
              "Aether Beauty    5.0      -Organic Coconut Oil: Creates a buttery smoot...   \n",
              "\n",
              "                         online_only  exclusive  limited_edition  \\\n",
              "brand            rating                                            \n",
              "AERIN            5.0             1.0        0.0              0.0   \n",
              "ALTERNA Haircare 5.0             1.0        0.0              0.0   \n",
              "AMOREPACIFIC     5.0             1.0        0.0              0.0   \n",
              "Acqua Di Parma   5.0             1.0        0.0              0.0   \n",
              "Aether Beauty    5.0             0.0        0.0              0.0   \n",
              "\n",
              "                         limited_time_offer  \n",
              "brand            rating                      \n",
              "AERIN            5.0                    0.0  \n",
              "ALTERNA Haircare 5.0                    0.0  \n",
              "AMOREPACIFIC     5.0                    0.0  \n",
              "Acqua Di Parma   5.0                    0.0  \n",
              "Aether Beauty    5.0                    0.0  "
            ],
            "text/html": [
              "\n",
              "  <div id=\"df-0aaf27ab-b30a-43e5-ac77-6559439b58e1\">\n",
              "    <div class=\"colab-df-container\">\n",
              "      <div>\n",
              "<style scoped>\n",
              "    .dataframe tbody tr th:only-of-type {\n",
              "        vertical-align: middle;\n",
              "    }\n",
              "\n",
              "    .dataframe tbody tr th {\n",
              "        vertical-align: top;\n",
              "    }\n",
              "\n",
              "    .dataframe thead th {\n",
              "        text-align: right;\n",
              "    }\n",
              "</style>\n",
              "<table border=\"1\" class=\"dataframe\">\n",
              "  <thead>\n",
              "    <tr style=\"text-align: right;\">\n",
              "      <th></th>\n",
              "      <th></th>\n",
              "      <th>id</th>\n",
              "      <th>category</th>\n",
              "      <th>name</th>\n",
              "      <th>size</th>\n",
              "      <th>number_of_reviews</th>\n",
              "      <th>love</th>\n",
              "      <th>price</th>\n",
              "      <th>value_price</th>\n",
              "      <th>URL</th>\n",
              "      <th>MarketingFlags</th>\n",
              "      <th>MarketingFlags_content</th>\n",
              "      <th>options</th>\n",
              "      <th>details</th>\n",
              "      <th>how_to_use</th>\n",
              "      <th>ingredients</th>\n",
              "      <th>online_only</th>\n",
              "      <th>exclusive</th>\n",
              "      <th>limited_edition</th>\n",
              "      <th>limited_time_offer</th>\n",
              "    </tr>\n",
              "    <tr>\n",
              "      <th>brand</th>\n",
              "      <th>rating</th>\n",
              "      <th></th>\n",
              "      <th></th>\n",
              "      <th></th>\n",
              "      <th></th>\n",
              "      <th></th>\n",
              "      <th></th>\n",
              "      <th></th>\n",
              "      <th></th>\n",
              "      <th></th>\n",
              "      <th></th>\n",
              "      <th></th>\n",
              "      <th></th>\n",
              "      <th></th>\n",
              "      <th></th>\n",
              "      <th></th>\n",
              "      <th></th>\n",
              "      <th></th>\n",
              "      <th></th>\n",
              "      <th></th>\n",
              "    </tr>\n",
              "  </thead>\n",
              "  <tbody>\n",
              "    <tr>\n",
              "      <th>AERIN</th>\n",
              "      <th>5.0</th>\n",
              "      <td>1699222</td>\n",
              "      <td>Perfume</td>\n",
              "      <td>Rose De Grasse</td>\n",
              "      <td>1.7 oz/ 50 mL</td>\n",
              "      <td>12.0</td>\n",
              "      <td>1700.0</td>\n",
              "      <td>235.0</td>\n",
              "      <td>235.0</td>\n",
              "      <td>https://www.sephora.com/product/rose-de-grasse...</td>\n",
              "      <td>True</td>\n",
              "      <td>online only</td>\n",
              "      <td>- 1.7 oz/ 50 mL Eau de Parfum Spray  - 3.4 oz...</td>\n",
              "      <td>Fragrance Family:\\n Floral\\n\\nScent Type:\\n Cl...</td>\n",
              "      <td>no instructions</td>\n",
              "      <td>unknown</td>\n",
              "      <td>1.0</td>\n",
              "      <td>0.0</td>\n",
              "      <td>0.0</td>\n",
              "      <td>0.0</td>\n",
              "    </tr>\n",
              "    <tr>\n",
              "      <th>ALTERNA Haircare</th>\n",
              "      <th>5.0</th>\n",
              "      <td>2140374</td>\n",
              "      <td>Hair Styling Products</td>\n",
              "      <td>CAVIAR Anti-Aging® Infinite Color Hold Topcoat...</td>\n",
              "      <td>4.2 oz/ 125 mL</td>\n",
              "      <td>16.0</td>\n",
              "      <td>2400.0</td>\n",
              "      <td>32.0</td>\n",
              "      <td>32.0</td>\n",
              "      <td>https://www.sephora.com/product/caviar-infinit...</td>\n",
              "      <td>True</td>\n",
              "      <td>online only</td>\n",
              "      <td>no options</td>\n",
              "      <td>Which hair type is it good for?✔ Straight✔ Wav...</td>\n",
              "      <td>Suggested Usage:-Spray evenly through dry hair...</td>\n",
              "      <td>-Red Raspberry Leaf Oil and Sunflower Seed Oi...</td>\n",
              "      <td>1.0</td>\n",
              "      <td>0.0</td>\n",
              "      <td>0.0</td>\n",
              "      <td>0.0</td>\n",
              "    </tr>\n",
              "    <tr>\n",
              "      <th>AMOREPACIFIC</th>\n",
              "      <th>5.0</th>\n",
              "      <td>2150225</td>\n",
              "      <td>Value &amp; Gift Sets</td>\n",
              "      <td>TIME RESPONSE Skin Reserve Crème</td>\n",
              "      <td>no size</td>\n",
              "      <td>8.0</td>\n",
              "      <td>1100.0</td>\n",
              "      <td>150.0</td>\n",
              "      <td>150.0</td>\n",
              "      <td>https://www.sephora.com/product/time-response-...</td>\n",
              "      <td>True</td>\n",
              "      <td>online only</td>\n",
              "      <td>no options</td>\n",
              "      <td>What it is:  A luxurious anti-aging face cream...</td>\n",
              "      <td>Suggested Usage:-Scoop a dime-sized amount of ...</td>\n",
              "      <td>Camellia Sinensis Leaf Water- Butylene Glycol-...</td>\n",
              "      <td>1.0</td>\n",
              "      <td>0.0</td>\n",
              "      <td>0.0</td>\n",
              "      <td>0.0</td>\n",
              "    </tr>\n",
              "    <tr>\n",
              "      <th>Acqua Di Parma</th>\n",
              "      <th>5.0</th>\n",
              "      <td>1284462</td>\n",
              "      <td>Perfume Gift Sets</td>\n",
              "      <td>Colonia Essenza</td>\n",
              "      <td>no size</td>\n",
              "      <td>1.0</td>\n",
              "      <td>719.0</td>\n",
              "      <td>120.0</td>\n",
              "      <td>120.0</td>\n",
              "      <td>https://www.sephora.com/product/colonia-essenz...</td>\n",
              "      <td>True</td>\n",
              "      <td>online only</td>\n",
              "      <td>no options</td>\n",
              "      <td>The newest Eau de Cologne from Acqua di Parma ...</td>\n",
              "      <td>Suggested Usage:-Fragrance is intensified by t...</td>\n",
              "      <td>Alcohol Denat.- Water- Fragrance- Limonene- Hy...</td>\n",
              "      <td>1.0</td>\n",
              "      <td>0.0</td>\n",
              "      <td>0.0</td>\n",
              "      <td>0.0</td>\n",
              "    </tr>\n",
              "    <tr>\n",
              "      <th>Aether Beauty</th>\n",
              "      <th>5.0</th>\n",
              "      <td>2189975</td>\n",
              "      <td>Eye Palettes</td>\n",
              "      <td>Solstice Eyeshadow Palette</td>\n",
              "      <td>no size</td>\n",
              "      <td>116.0</td>\n",
              "      <td>6100.0</td>\n",
              "      <td>58.0</td>\n",
              "      <td>58.0</td>\n",
              "      <td>https://www.sephora.com/product/summer-solstic...</td>\n",
              "      <td>False</td>\n",
              "      <td>0</td>\n",
              "      <td>no options</td>\n",
              "      <td>What it is: A palette of 12 golden hour shades...</td>\n",
              "      <td>no instructions</td>\n",
              "      <td>-Organic Coconut Oil: Creates a buttery smoot...</td>\n",
              "      <td>0.0</td>\n",
              "      <td>0.0</td>\n",
              "      <td>0.0</td>\n",
              "      <td>0.0</td>\n",
              "    </tr>\n",
              "  </tbody>\n",
              "</table>\n",
              "</div>\n",
              "      <button class=\"colab-df-convert\" onclick=\"convertToInteractive('df-0aaf27ab-b30a-43e5-ac77-6559439b58e1')\"\n",
              "              title=\"Convert this dataframe to an interactive table.\"\n",
              "              style=\"display:none;\">\n",
              "        \n",
              "  <svg xmlns=\"http://www.w3.org/2000/svg\" height=\"24px\"viewBox=\"0 0 24 24\"\n",
              "       width=\"24px\">\n",
              "    <path d=\"M0 0h24v24H0V0z\" fill=\"none\"/>\n",
              "    <path d=\"M18.56 5.44l.94 2.06.94-2.06 2.06-.94-2.06-.94-.94-2.06-.94 2.06-2.06.94zm-11 1L8.5 8.5l.94-2.06 2.06-.94-2.06-.94L8.5 2.5l-.94 2.06-2.06.94zm10 10l.94 2.06.94-2.06 2.06-.94-2.06-.94-.94-2.06-.94 2.06-2.06.94z\"/><path d=\"M17.41 7.96l-1.37-1.37c-.4-.4-.92-.59-1.43-.59-.52 0-1.04.2-1.43.59L10.3 9.45l-7.72 7.72c-.78.78-.78 2.05 0 2.83L4 21.41c.39.39.9.59 1.41.59.51 0 1.02-.2 1.41-.59l7.78-7.78 2.81-2.81c.8-.78.8-2.07 0-2.86zM5.41 20L4 18.59l7.72-7.72 1.47 1.35L5.41 20z\"/>\n",
              "  </svg>\n",
              "      </button>\n",
              "      \n",
              "  <style>\n",
              "    .colab-df-container {\n",
              "      display:flex;\n",
              "      flex-wrap:wrap;\n",
              "      gap: 12px;\n",
              "    }\n",
              "\n",
              "    .colab-df-convert {\n",
              "      background-color: #E8F0FE;\n",
              "      border: none;\n",
              "      border-radius: 50%;\n",
              "      cursor: pointer;\n",
              "      display: none;\n",
              "      fill: #1967D2;\n",
              "      height: 32px;\n",
              "      padding: 0 0 0 0;\n",
              "      width: 32px;\n",
              "    }\n",
              "\n",
              "    .colab-df-convert:hover {\n",
              "      background-color: #E2EBFA;\n",
              "      box-shadow: 0px 1px 2px rgba(60, 64, 67, 0.3), 0px 1px 3px 1px rgba(60, 64, 67, 0.15);\n",
              "      fill: #174EA6;\n",
              "    }\n",
              "\n",
              "    [theme=dark] .colab-df-convert {\n",
              "      background-color: #3B4455;\n",
              "      fill: #D2E3FC;\n",
              "    }\n",
              "\n",
              "    [theme=dark] .colab-df-convert:hover {\n",
              "      background-color: #434B5C;\n",
              "      box-shadow: 0px 1px 3px 1px rgba(0, 0, 0, 0.15);\n",
              "      filter: drop-shadow(0px 1px 2px rgba(0, 0, 0, 0.3));\n",
              "      fill: #FFFFFF;\n",
              "    }\n",
              "  </style>\n",
              "\n",
              "      <script>\n",
              "        const buttonEl =\n",
              "          document.querySelector('#df-0aaf27ab-b30a-43e5-ac77-6559439b58e1 button.colab-df-convert');\n",
              "        buttonEl.style.display =\n",
              "          google.colab.kernel.accessAllowed ? 'block' : 'none';\n",
              "\n",
              "        async function convertToInteractive(key) {\n",
              "          const element = document.querySelector('#df-0aaf27ab-b30a-43e5-ac77-6559439b58e1');\n",
              "          const dataTable =\n",
              "            await google.colab.kernel.invokeFunction('convertToInteractive',\n",
              "                                                     [key], {});\n",
              "          if (!dataTable) return;\n",
              "\n",
              "          const docLinkHtml = 'Like what you see? Visit the ' +\n",
              "            '<a target=\"_blank\" href=https://colab.research.google.com/notebooks/data_table.ipynb>data table notebook</a>'\n",
              "            + ' to learn more about interactive tables.';\n",
              "          element.innerHTML = '';\n",
              "          dataTable['output_type'] = 'display_data';\n",
              "          await google.colab.output.renderOutput(dataTable, element);\n",
              "          const docLink = document.createElement('div');\n",
              "          docLink.innerHTML = docLinkHtml;\n",
              "          element.appendChild(docLink);\n",
              "        }\n",
              "      </script>\n",
              "    </div>\n",
              "  </div>\n",
              "  "
            ]
          },
          "metadata": {},
          "execution_count": 156
        }
      ]
    },
    {
      "cell_type": "markdown",
      "source": [
        "Топ 5 категорий товаров, у которых цена выше средней цены среди каждой категории"
      ],
      "metadata": {
        "id": "ycw8Vjp8Ln9e"
      }
    },
    {
      "cell_type": "code",
      "source": [
        "top_5_categories = data.loc[data.price > data['price'].mean()]\n",
        "top_5_categories.groupby(['category','price']).agg(lambda x: x.value_counts().index[0])[:5]"
      ],
      "metadata": {
        "colab": {
          "base_uri": "https://localhost:8080/",
          "height": 579
        },
        "id": "0T5N4JdLFCbF",
        "outputId": "b822f188-1b57-4cf2-a153-a121ae8c4c41"
      },
      "execution_count": 155,
      "outputs": [
        {
          "output_type": "execute_result",
          "data": {
            "text/plain": [
              "                       id                brand  \\\n",
              "category   price                                 \n",
              "Aftershave 60.0   1824416                 Dior   \n",
              "Anti-Aging 59.0   2349934  Clarisonic Skincare   \n",
              "           99.0   2267672           DERMAFLASH   \n",
              "           125.0  2194306      StackedSkincare   \n",
              "           149.0  2147205               NuFACE   \n",
              "\n",
              "                                                               name  \\\n",
              "category   price                                                      \n",
              "Aftershave 60.0                            Sauvage After Shave Balm   \n",
              "Anti-Aging 59.0               Anti-Aging + Firming 3D Face Sculptor   \n",
              "           99.0   DERMAPORE Ultrasonic Pore Extractor & Serum In...   \n",
              "           125.0                             Microneedling Tool 2.0   \n",
              "           149.0                          FIX Line Smoothing Device   \n",
              "\n",
              "                            size  rating  number_of_reviews     love  \\\n",
              "category   price                                                       \n",
              "Aftershave 60.0   3.4 oz/ 101 mL     5.0                3.0    455.0   \n",
              "Anti-Aging 59.0          no size     3.5               50.0   8800.0   \n",
              "           99.0          no size     4.0               51.0  12600.0   \n",
              "           125.0         no size     5.0              102.0   4700.0   \n",
              "           149.0         no size     4.0              233.0   3200.0   \n",
              "\n",
              "                  value_price  \\\n",
              "category   price                \n",
              "Aftershave 60.0          60.0   \n",
              "Anti-Aging 59.0          59.0   \n",
              "           99.0          99.0   \n",
              "           125.0        125.0   \n",
              "           149.0        149.0   \n",
              "\n",
              "                                                                URL  \\\n",
              "category   price                                                      \n",
              "Aftershave 60.0   https://www.sephora.com/product/sauvage-after-...   \n",
              "Anti-Aging 59.0   https://www.sephora.com/product/uplift-firming...   \n",
              "           99.0   https://www.sephora.com/product/dermapore-ultr...   \n",
              "           125.0  https://www.sephora.com/product/microneedling-...   \n",
              "           149.0  https://www.sephora.com/product/fix-line-smoot...   \n",
              "\n",
              "                  MarketingFlags   MarketingFlags_content     options  \\\n",
              "category   price                                                        \n",
              "Aftershave 60.0            False                        0  no options   \n",
              "Anti-Aging 59.0            False                        0  no options   \n",
              "           99.0             True              online only  no options   \n",
              "           125.0            True  exclusive · online only  no options   \n",
              "           149.0            True              online only  no options   \n",
              "\n",
              "                                                            details  \\\n",
              "category   price                                                      \n",
              "Aftershave 60.0   What it is:\\n A non-oily balm that soothes the...   \n",
              "Anti-Aging 59.0   What it is:  A powerful anti-aging tool for fa...   \n",
              "           99.0   What it is:  A unique- two-in-one ultrasonic s...   \n",
              "           125.0  What it is:  A sustainable Microneedling Tool ...   \n",
              "           149.0  What it is:  A line-smoothing device that inst...   \n",
              "\n",
              "                                                         how_to_use  \\\n",
              "category   price                                                      \n",
              "Aftershave 60.0                                     no instructions   \n",
              "Anti-Aging 59.0   Suggested Usage:For a visibly anti-aging massa...   \n",
              "           99.0   Suggested Usage:-Use DERMAPORE up to three tim...   \n",
              "           125.0  Suggested Usage:-Gently roll the MicroNeedling...   \n",
              "           149.0  Suggested Usage:-Cleanse skin and apply NuFACE...   \n",
              "\n",
              "                 ingredients  online_only  exclusive  limited_edition  \\\n",
              "category   price                                                        \n",
              "Aftershave 60.0      unknown          0.0        0.0              0.0   \n",
              "Anti-Aging 59.0      unknown          0.0        0.0              0.0   \n",
              "           99.0      unknown          1.0        0.0              0.0   \n",
              "           125.0     unknown          1.0        1.0              0.0   \n",
              "           149.0     unknown          1.0        0.0              0.0   \n",
              "\n",
              "                  limited_time_offer  \n",
              "category   price                      \n",
              "Aftershave 60.0                  0.0  \n",
              "Anti-Aging 59.0                  0.0  \n",
              "           99.0                  0.0  \n",
              "           125.0                 0.0  \n",
              "           149.0                 0.0  "
            ],
            "text/html": [
              "\n",
              "  <div id=\"df-9f455649-d296-4089-940b-3563bb339828\">\n",
              "    <div class=\"colab-df-container\">\n",
              "      <div>\n",
              "<style scoped>\n",
              "    .dataframe tbody tr th:only-of-type {\n",
              "        vertical-align: middle;\n",
              "    }\n",
              "\n",
              "    .dataframe tbody tr th {\n",
              "        vertical-align: top;\n",
              "    }\n",
              "\n",
              "    .dataframe thead th {\n",
              "        text-align: right;\n",
              "    }\n",
              "</style>\n",
              "<table border=\"1\" class=\"dataframe\">\n",
              "  <thead>\n",
              "    <tr style=\"text-align: right;\">\n",
              "      <th></th>\n",
              "      <th></th>\n",
              "      <th>id</th>\n",
              "      <th>brand</th>\n",
              "      <th>name</th>\n",
              "      <th>size</th>\n",
              "      <th>rating</th>\n",
              "      <th>number_of_reviews</th>\n",
              "      <th>love</th>\n",
              "      <th>value_price</th>\n",
              "      <th>URL</th>\n",
              "      <th>MarketingFlags</th>\n",
              "      <th>MarketingFlags_content</th>\n",
              "      <th>options</th>\n",
              "      <th>details</th>\n",
              "      <th>how_to_use</th>\n",
              "      <th>ingredients</th>\n",
              "      <th>online_only</th>\n",
              "      <th>exclusive</th>\n",
              "      <th>limited_edition</th>\n",
              "      <th>limited_time_offer</th>\n",
              "    </tr>\n",
              "    <tr>\n",
              "      <th>category</th>\n",
              "      <th>price</th>\n",
              "      <th></th>\n",
              "      <th></th>\n",
              "      <th></th>\n",
              "      <th></th>\n",
              "      <th></th>\n",
              "      <th></th>\n",
              "      <th></th>\n",
              "      <th></th>\n",
              "      <th></th>\n",
              "      <th></th>\n",
              "      <th></th>\n",
              "      <th></th>\n",
              "      <th></th>\n",
              "      <th></th>\n",
              "      <th></th>\n",
              "      <th></th>\n",
              "      <th></th>\n",
              "      <th></th>\n",
              "      <th></th>\n",
              "    </tr>\n",
              "  </thead>\n",
              "  <tbody>\n",
              "    <tr>\n",
              "      <th>Aftershave</th>\n",
              "      <th>60.0</th>\n",
              "      <td>1824416</td>\n",
              "      <td>Dior</td>\n",
              "      <td>Sauvage After Shave Balm</td>\n",
              "      <td>3.4 oz/ 101 mL</td>\n",
              "      <td>5.0</td>\n",
              "      <td>3.0</td>\n",
              "      <td>455.0</td>\n",
              "      <td>60.0</td>\n",
              "      <td>https://www.sephora.com/product/sauvage-after-...</td>\n",
              "      <td>False</td>\n",
              "      <td>0</td>\n",
              "      <td>no options</td>\n",
              "      <td>What it is:\\n A non-oily balm that soothes the...</td>\n",
              "      <td>no instructions</td>\n",
              "      <td>unknown</td>\n",
              "      <td>0.0</td>\n",
              "      <td>0.0</td>\n",
              "      <td>0.0</td>\n",
              "      <td>0.0</td>\n",
              "    </tr>\n",
              "    <tr>\n",
              "      <th rowspan=\"4\" valign=\"top\">Anti-Aging</th>\n",
              "      <th>59.0</th>\n",
              "      <td>2349934</td>\n",
              "      <td>Clarisonic Skincare</td>\n",
              "      <td>Anti-Aging + Firming 3D Face Sculptor</td>\n",
              "      <td>no size</td>\n",
              "      <td>3.5</td>\n",
              "      <td>50.0</td>\n",
              "      <td>8800.0</td>\n",
              "      <td>59.0</td>\n",
              "      <td>https://www.sephora.com/product/uplift-firming...</td>\n",
              "      <td>False</td>\n",
              "      <td>0</td>\n",
              "      <td>no options</td>\n",
              "      <td>What it is:  A powerful anti-aging tool for fa...</td>\n",
              "      <td>Suggested Usage:For a visibly anti-aging massa...</td>\n",
              "      <td>unknown</td>\n",
              "      <td>0.0</td>\n",
              "      <td>0.0</td>\n",
              "      <td>0.0</td>\n",
              "      <td>0.0</td>\n",
              "    </tr>\n",
              "    <tr>\n",
              "      <th>99.0</th>\n",
              "      <td>2267672</td>\n",
              "      <td>DERMAFLASH</td>\n",
              "      <td>DERMAPORE Ultrasonic Pore Extractor &amp; Serum In...</td>\n",
              "      <td>no size</td>\n",
              "      <td>4.0</td>\n",
              "      <td>51.0</td>\n",
              "      <td>12600.0</td>\n",
              "      <td>99.0</td>\n",
              "      <td>https://www.sephora.com/product/dermapore-ultr...</td>\n",
              "      <td>True</td>\n",
              "      <td>online only</td>\n",
              "      <td>no options</td>\n",
              "      <td>What it is:  A unique- two-in-one ultrasonic s...</td>\n",
              "      <td>Suggested Usage:-Use DERMAPORE up to three tim...</td>\n",
              "      <td>unknown</td>\n",
              "      <td>1.0</td>\n",
              "      <td>0.0</td>\n",
              "      <td>0.0</td>\n",
              "      <td>0.0</td>\n",
              "    </tr>\n",
              "    <tr>\n",
              "      <th>125.0</th>\n",
              "      <td>2194306</td>\n",
              "      <td>StackedSkincare</td>\n",
              "      <td>Microneedling Tool 2.0</td>\n",
              "      <td>no size</td>\n",
              "      <td>5.0</td>\n",
              "      <td>102.0</td>\n",
              "      <td>4700.0</td>\n",
              "      <td>125.0</td>\n",
              "      <td>https://www.sephora.com/product/microneedling-...</td>\n",
              "      <td>True</td>\n",
              "      <td>exclusive · online only</td>\n",
              "      <td>no options</td>\n",
              "      <td>What it is:  A sustainable Microneedling Tool ...</td>\n",
              "      <td>Suggested Usage:-Gently roll the MicroNeedling...</td>\n",
              "      <td>unknown</td>\n",
              "      <td>1.0</td>\n",
              "      <td>1.0</td>\n",
              "      <td>0.0</td>\n",
              "      <td>0.0</td>\n",
              "    </tr>\n",
              "    <tr>\n",
              "      <th>149.0</th>\n",
              "      <td>2147205</td>\n",
              "      <td>NuFACE</td>\n",
              "      <td>FIX Line Smoothing Device</td>\n",
              "      <td>no size</td>\n",
              "      <td>4.0</td>\n",
              "      <td>233.0</td>\n",
              "      <td>3200.0</td>\n",
              "      <td>149.0</td>\n",
              "      <td>https://www.sephora.com/product/fix-line-smoot...</td>\n",
              "      <td>True</td>\n",
              "      <td>online only</td>\n",
              "      <td>no options</td>\n",
              "      <td>What it is:  A line-smoothing device that inst...</td>\n",
              "      <td>Suggested Usage:-Cleanse skin and apply NuFACE...</td>\n",
              "      <td>unknown</td>\n",
              "      <td>1.0</td>\n",
              "      <td>0.0</td>\n",
              "      <td>0.0</td>\n",
              "      <td>0.0</td>\n",
              "    </tr>\n",
              "  </tbody>\n",
              "</table>\n",
              "</div>\n",
              "      <button class=\"colab-df-convert\" onclick=\"convertToInteractive('df-9f455649-d296-4089-940b-3563bb339828')\"\n",
              "              title=\"Convert this dataframe to an interactive table.\"\n",
              "              style=\"display:none;\">\n",
              "        \n",
              "  <svg xmlns=\"http://www.w3.org/2000/svg\" height=\"24px\"viewBox=\"0 0 24 24\"\n",
              "       width=\"24px\">\n",
              "    <path d=\"M0 0h24v24H0V0z\" fill=\"none\"/>\n",
              "    <path d=\"M18.56 5.44l.94 2.06.94-2.06 2.06-.94-2.06-.94-.94-2.06-.94 2.06-2.06.94zm-11 1L8.5 8.5l.94-2.06 2.06-.94-2.06-.94L8.5 2.5l-.94 2.06-2.06.94zm10 10l.94 2.06.94-2.06 2.06-.94-2.06-.94-.94-2.06-.94 2.06-2.06.94z\"/><path d=\"M17.41 7.96l-1.37-1.37c-.4-.4-.92-.59-1.43-.59-.52 0-1.04.2-1.43.59L10.3 9.45l-7.72 7.72c-.78.78-.78 2.05 0 2.83L4 21.41c.39.39.9.59 1.41.59.51 0 1.02-.2 1.41-.59l7.78-7.78 2.81-2.81c.8-.78.8-2.07 0-2.86zM5.41 20L4 18.59l7.72-7.72 1.47 1.35L5.41 20z\"/>\n",
              "  </svg>\n",
              "      </button>\n",
              "      \n",
              "  <style>\n",
              "    .colab-df-container {\n",
              "      display:flex;\n",
              "      flex-wrap:wrap;\n",
              "      gap: 12px;\n",
              "    }\n",
              "\n",
              "    .colab-df-convert {\n",
              "      background-color: #E8F0FE;\n",
              "      border: none;\n",
              "      border-radius: 50%;\n",
              "      cursor: pointer;\n",
              "      display: none;\n",
              "      fill: #1967D2;\n",
              "      height: 32px;\n",
              "      padding: 0 0 0 0;\n",
              "      width: 32px;\n",
              "    }\n",
              "\n",
              "    .colab-df-convert:hover {\n",
              "      background-color: #E2EBFA;\n",
              "      box-shadow: 0px 1px 2px rgba(60, 64, 67, 0.3), 0px 1px 3px 1px rgba(60, 64, 67, 0.15);\n",
              "      fill: #174EA6;\n",
              "    }\n",
              "\n",
              "    [theme=dark] .colab-df-convert {\n",
              "      background-color: #3B4455;\n",
              "      fill: #D2E3FC;\n",
              "    }\n",
              "\n",
              "    [theme=dark] .colab-df-convert:hover {\n",
              "      background-color: #434B5C;\n",
              "      box-shadow: 0px 1px 3px 1px rgba(0, 0, 0, 0.15);\n",
              "      filter: drop-shadow(0px 1px 2px rgba(0, 0, 0, 0.3));\n",
              "      fill: #FFFFFF;\n",
              "    }\n",
              "  </style>\n",
              "\n",
              "      <script>\n",
              "        const buttonEl =\n",
              "          document.querySelector('#df-9f455649-d296-4089-940b-3563bb339828 button.colab-df-convert');\n",
              "        buttonEl.style.display =\n",
              "          google.colab.kernel.accessAllowed ? 'block' : 'none';\n",
              "\n",
              "        async function convertToInteractive(key) {\n",
              "          const element = document.querySelector('#df-9f455649-d296-4089-940b-3563bb339828');\n",
              "          const dataTable =\n",
              "            await google.colab.kernel.invokeFunction('convertToInteractive',\n",
              "                                                     [key], {});\n",
              "          if (!dataTable) return;\n",
              "\n",
              "          const docLinkHtml = 'Like what you see? Visit the ' +\n",
              "            '<a target=\"_blank\" href=https://colab.research.google.com/notebooks/data_table.ipynb>data table notebook</a>'\n",
              "            + ' to learn more about interactive tables.';\n",
              "          element.innerHTML = '';\n",
              "          dataTable['output_type'] = 'display_data';\n",
              "          await google.colab.output.renderOutput(dataTable, element);\n",
              "          const docLink = document.createElement('div');\n",
              "          docLink.innerHTML = docLinkHtml;\n",
              "          element.appendChild(docLink);\n",
              "        }\n",
              "      </script>\n",
              "    </div>\n",
              "  </div>\n",
              "  "
            ]
          },
          "metadata": {},
          "execution_count": 155
        }
      ]
    },
    {
      "cell_type": "code",
      "source": [
        "fig, ax = plt.subplots()\n",
        "_ = plt.scatter(x=data['price'], y=data['value_price'], edgecolors=\"#000000\", linewidths=0.5)\n",
        "_ = ax.set(xlabel=\"price\", ylabel=\"value_price\")"
      ],
      "metadata": {
        "colab": {
          "base_uri": "https://localhost:8080/",
          "height": 279
        },
        "id": "8QdZ0ZSPHpa1",
        "outputId": "2f326780-0cf7-422f-d669-b1c7148256ee"
      },
      "execution_count": 136,
      "outputs": [
        {
          "output_type": "display_data",
          "data": {
            "text/plain": [
              "<Figure size 432x288 with 1 Axes>"
            ],
            "image/png": "[encoded data removed]"
          },
          "metadata": {
            "needs_background": "light"
          }
        }
      ]
    },
    {
      "cell_type": "code",
      "source": [
        "fig, ax = plt.subplots()\n",
        "_ = plt.scatter(x=data['love'], y=data['number_of_reviews'], edgecolors=\"#000000\", linewidths=0.5)\n",
        "_ = ax.set(xlabel=\"love\", ylabel=\"number_of_reviews\")"
      ],
      "metadata": {
        "colab": {
          "base_uri": "https://localhost:8080/",
          "height": 279
        },
        "id": "zF5xHddfIAAV",
        "outputId": "03ffdfa3-d517-48e4-a863-b53afbbea2d0"
      },
      "execution_count": 138,
      "outputs": [
        {
          "output_type": "display_data",
          "data": {
            "text/plain": [
              "<Figure size 432x288 with 1 Axes>"
            ],
            "image/png": "[encoded data removed]"
          },
          "metadata": {
            "needs_background": "light"
          }
        }
      ]
    },
    {
      "cell_type": "markdown",
      "source": [
        "график ящик с усами по признакам: количество отзывов, лайки, цена, цена со скидкой"
      ],
      "metadata": {
        "id": "9p4Q8k3eIFF0"
      }
    },
    {
      "cell_type": "code",
      "source": [
        "features = ['number_of_reviews', 'love', 'price', 'value_price']\n",
        "plt.figure(figsize=(20, 8))\n",
        "for i in range(0, len(features)):\n",
        "    plt.subplot(1, 7, i+1)\n",
        "    sns.boxplot(y=data[features[i]],color='green',orient='v')"
      ],
      "metadata": {
        "colab": {
          "base_uri": "https://localhost:8080/",
          "height": 480
        },
        "id": "Sb1NN94ZIHPs",
        "outputId": "f78567fc-6a6f-4a81-aed0-987698af1524"
      },
      "execution_count": 140,
      "outputs": [
        {
          "output_type": "display_data",
          "data": {
            "text/plain": [
              "<Figure size 1440x576 with 4 Axes>"
            ],
            "image/png": "[encoded data removed]"
          },
          "metadata": {
            "needs_background": "light"
          }
        }
      ]
    },
    {
      "cell_type": "markdown",
      "source": [
        "Посмотрим на распределение признака цена со скидкой (value_price)"
      ],
      "metadata": {
        "id": "Tp2ALfRKIedL"
      }
    },
    {
      "cell_type": "code",
      "source": [
        "plt.figure(figsize=(20,8))\n",
        "\n",
        "plt.subplot(1,2,1)\n",
        "plt.title('График распределения цены со скидкой')\n",
        "sns.distplot(data.value_price)\n",
        "\n",
        "plt.subplot(1,2,2)\n",
        "plt.title('Распределение цены со скидкой')\n",
        "sns.boxplot(y=data.value_price)\n",
        "\n",
        "plt.show()"
      ],
      "metadata": {
        "colab": {
          "base_uri": "https://localhost:8080/",
          "height": 569
        },
        "id": "i_qB6h_KIeB8",
        "outputId": "1eb644aa-689a-40d1-e0a1-a79b2280c7b9"
      },
      "execution_count": 141,
      "outputs": [
        {
          "output_type": "stream",
          "name": "stderr",
          "text": [
            "/usr/local/lib/python3.8/dist-packages/seaborn/distributions.py:2619: FutureWarning: `distplot` is a deprecated function and will be removed in a future version. Please adapt your code to use either `displot` (a figure-level function with similar flexibility) or `histplot` (an axes-level function for histograms).\n",
            "  warnings.warn(msg, FutureWarning)\n"
          ]
        },
        {
          "output_type": "display_data",
          "data": {
            "text/plain": [
              "<Figure size 1440x576 with 2 Axes>"
            ],
            "image/png": "[encoded data removed]"
          },
          "metadata": {
            "needs_background": "light"
          }
        }
      ]
    },
    {
      "cell_type": "markdown",
      "source": [
        "Данные не симметричны, наблюдаемый максимум в пределах 120 и большинство выбросов за пределами наблюдаемого максимума, большинство значений находятся выше медианы в верхнем квартиле"
      ],
      "metadata": {
        "id": "8uIgts2GRNJt"
      }
    },
    {
      "cell_type": "markdown",
      "source": [
        "Проверим его межквартильные диапазоны"
      ],
      "metadata": {
        "id": "TlOt2CvYIqd3"
      }
    },
    {
      "cell_type": "code",
      "source": [
        "print(data.value_price.describe(percentiles = [0.25,0.50,0.75,0.85,0.90,1]))"
      ],
      "metadata": {
        "colab": {
          "base_uri": "https://localhost:8080/"
        },
        "id": "RN23_rjLInKr",
        "outputId": "4dfad007-9da6-451c-fe07-175a03a2a972"
      },
      "execution_count": 143,
      "outputs": [
        {
          "output_type": "stream",
          "name": "stdout",
          "text": [
            "count    7765.000000\n",
            "mean       51.929005\n",
            "std        48.656629\n",
            "min         2.000000\n",
            "25%        25.000000\n",
            "50%        36.000000\n",
            "75%        60.000000\n",
            "85%        85.000000\n",
            "90%       102.000000\n",
            "100%      549.000000\n",
            "max       549.000000\n",
            "Name: value_price, dtype: float64\n"
          ]
        }
      ]
    },
    {
      "cell_type": "code",
      "source": [
        "print(f\"Коэффициент асимметрии: {round(data.value_price.skew(), 3)}\")\n",
        "fig, (ax1, ax2) = plt.subplots(1, 2, figsize=(15, 5), dpi=300)\n",
        "\n",
        "sns.distplot(data['value_price'] , fit=stats.norm, ax=ax1)\n",
        "ax1.set_title('Гистограмма распределения')\n",
        "ax1.set_ylabel(\"Плотность\")\n",
        "\n",
        "stats.probplot(data['value_price'], plot=ax2)\n",
        "ax2.set_title('График вероятности')\n",
        "ax2.set_ylabel(\"Упорядоченные значения\")\n",
        "\n",
        "plt.show()"
      ],
      "metadata": {
        "colab": {
          "base_uri": "https://localhost:8080/",
          "height": 535
        },
        "id": "-kMlB4u4Iw58",
        "outputId": "1da98a76-7dd9-4188-d7d4-3c4fe0519762"
      },
      "execution_count": 151,
      "outputs": [
        {
          "output_type": "stream",
          "name": "stdout",
          "text": [
            "Коэффициент асимметрии: 3.216\n"
          ]
        },
        {
          "output_type": "stream",
          "name": "stderr",
          "text": [
            "/usr/local/lib/python3.8/dist-packages/seaborn/distributions.py:2619: FutureWarning: `distplot` is a deprecated function and will be removed in a future version. Please adapt your code to use either `displot` (a figure-level function with similar flexibility) or `histplot` (an axes-level function for histograms).\n",
            "  warnings.warn(msg, FutureWarning)\n"
          ]
        },
        {
          "output_type": "display_data",
          "data": {
            "text/plain": [
              "<Figure size 4500x1500 with 2 Axes>"
            ],
            "image/png": "[encoded data removed]"
          },
          "metadata": {
            "needs_background": "light"
          }
        }
      ]
    },
    {
      "cell_type": "markdown",
      "source": [
        "На данной гистограмме распределения слева видно, что асимметрия положительная"
      ],
      "metadata": {
        "id": "UX4PMunEKNFG"
      }
    },
    {
      "cell_type": "markdown",
      "source": [
        "# **Проверка гипотез**"
      ],
      "metadata": {
        "id": "nO-KwWtgLdK1"
      }
    },
    {
      "cell_type": "markdown",
      "source": [
        "Нулевая гипотеза: самый дорогой по цене бренд - AERIN\n",
        "\n",
        "Альтернативная гипотеза: нет самого дорогого по цене бренда, все примерно одинаковые"
      ],
      "metadata": {
        "id": "B0dlXqTp-CLE"
      }
    },
    {
      "cell_type": "markdown",
      "source": [
        "Для доказательства используем критерий Стьюдента T-теста"
      ],
      "metadata": {
        "id": "ySNVlIqF-Prk"
      }
    },
    {
      "cell_type": "code",
      "source": [
        "aerin_prices = data[data['brand'] == 'AERIN']['price']\n",
        "non_aerin_prices = data[data['brand'] != 'AERIN']['price']"
      ],
      "metadata": {
        "id": "8n0x-HWX7SNc"
      },
      "execution_count": 103,
      "outputs": []
    },
    {
      "cell_type": "code",
      "source": [
        "aerin_prices = aerin_prices[aerin_prices > 0]\n",
        "non_aerin_prices = non_aerin_prices[non_aerin_prices > 0]\n",
        "\n",
        "aerin_prices = (aerin_prices+1).apply(np.log)\n",
        "non_aerin_prices = (non_aerin_prices+1).apply(np.log)\n",
        "print('Среднее для aerin_prices:  {}'.format(aerin_prices.mean()))\n",
        "print('Среднее для non_aerin_prices:  {}'.format(non_aerin_prices.mean()))"
      ],
      "metadata": {
        "colab": {
          "base_uri": "https://localhost:8080/"
        },
        "id": "J_Jrzg_F7ysr",
        "outputId": "0a0a62b4-ac75-4cc5-9dd7-ce5dfa2cbbce"
      },
      "execution_count": 104,
      "outputs": [
        {
          "output_type": "stream",
          "name": "stdout",
          "text": [
            "Среднее для aerin_prices:  4.389353146000684\n",
            "Среднее для non_aerin_prices:  3.6655614163858736\n"
          ]
        }
      ]
    },
    {
      "cell_type": "code",
      "source": [
        "import scipy.stats as stats\n",
        "\n",
        "stats.ttest_ind(a= aerin_prices,\n",
        "                b= non_aerin_prices,\n",
        "                equal_var=False) "
      ],
      "metadata": {
        "colab": {
          "base_uri": "https://localhost:8080/"
        },
        "id": "0x4b5f4S9uts",
        "outputId": "9d1697c0-f9ba-4d05-cc19-0060686eb846"
      },
      "execution_count": 105,
      "outputs": [
        {
          "output_type": "execute_result",
          "data": {
            "text/plain": [
              "Ttest_indResult(statistic=4.096538925403186, pvalue=0.0005122465653833307)"
            ]
          },
          "metadata": {},
          "execution_count": 105
        }
      ]
    },
    {
      "cell_type": "markdown",
      "source": [
        "p-значение слишком малое, поэтому мы можем отклонить нулевую гипотезу, это значит, что данные значительно отличаются"
      ],
      "metadata": {
        "id": "cr7mhyX_95rv"
      }
    },
    {
      "cell_type": "markdown",
      "source": [
        "Коэффициент Спирмена для установления связи между переменными:\n",
        "\n",
        "number_of_reviews и price\n",
        "\n",
        "Предполагается, что чем больше цена на товар, тем меньше о нем отзывов и обратно."
      ],
      "metadata": {
        "id": "j9WXmJwv-phw"
      }
    },
    {
      "cell_type": "code",
      "source": [
        "from scipy.stats import spearmanr\n",
        "\n",
        "# рассчитаем ранговую корреляцию Спирмена и соответствующее значение p\n",
        "rho, p = spearmanr(data['number_of_reviews'], data['value_price'])\n",
        "print(rho)\n",
        "print(p)"
      ],
      "metadata": {
        "colab": {
          "base_uri": "https://localhost:8080/"
        },
        "id": "jiTPv1L--ojs",
        "outputId": "b6ee723b-f2df-4a03-c903-7f8ab5652668"
      },
      "execution_count": 152,
      "outputs": [
        {
          "output_type": "stream",
          "name": "stdout",
          "text": [
            "-0.1462717980775789\n",
            "2.1439471402568462e-38\n"
          ]
        }
      ]
    },
    {
      "cell_type": "markdown",
      "source": [
        "Из вывода мы видим, что ранговая корреляция Спирмена составляет -0,1169, а p-значение меньше 0.05.\n",
        "\n",
        "Это указывает на то, что существует отрицательная корреляция между количеством отзывов о товаре и его ценой со скидкой. Поэтому предположение о том, что чем дороже товар, тем меньше о нем отзывов имеет место быть\n"
      ],
      "metadata": {
        "id": "M8WBuH5PCAlE"
      }
    },
    {
      "cell_type": "markdown",
      "source": [
        "**Логистическая регрессия**\n",
        "\n",
        "Прогнозируемая переменная: будет ли на товаре маркетинговый флаг в зависимости от цены со скидкой"
      ],
      "metadata": {
        "id": "tVp3VsgCMUcz"
      }
    },
    {
      "cell_type": "code",
      "source": [
        "data['MarketingFlags'] = data.MarketingFlags.map({False:0, True:1})\n",
        "data_cleaned = data[['value_price', 'MarketingFlags']]"
      ],
      "metadata": {
        "id": "dwccKQ8rSYyD"
      },
      "execution_count": 19,
      "outputs": []
    },
    {
      "cell_type": "markdown",
      "source": [
        "Проверим сбалансированность классов 0 и 1"
      ],
      "metadata": {
        "id": "C4cApJaZYLMj"
      }
    },
    {
      "cell_type": "code",
      "source": [
        "data_cleaned[\"MarketingFlags\"].hist()"
      ],
      "metadata": {
        "colab": {
          "base_uri": "https://localhost:8080/",
          "height": 285
        },
        "id": "iWRnLYvEYGez",
        "outputId": "af36bbc4-b48c-40c0-b1dd-91ec5e88295e"
      },
      "execution_count": 29,
      "outputs": [
        {
          "output_type": "execute_result",
          "data": {
            "text/plain": [
              "<matplotlib.axes._subplots.AxesSubplot at 0x7fa978f062b0>"
            ]
          },
          "metadata": {},
          "execution_count": 29
        },
        {
          "output_type": "display_data",
          "data": {
            "text/plain": [
              "<Figure size 432x288 with 1 Axes>"
            ],
            "image/png": "[encoded data removed]"
          },
          "metadata": {
            "needs_background": "light"
          }
        }
      ]
    },
    {
      "cell_type": "markdown",
      "source": [
        "Данные имеют сбалансированный характер, поэтому целесообразно обучить модель логистической регрессии"
      ],
      "metadata": {
        "id": "BAAVVxWPYQA6"
      }
    },
    {
      "cell_type": "code",
      "source": [
        "X = data_cleaned.drop('MarketingFlags', axis = 1)\n",
        "y = data_cleaned['MarketingFlags']\n",
        "X_train, X_test, y_train, y_test = train_test_split(X, y, test_size = 0.2, random_state = 42)\n",
        "\n",
        "# с помощью StandardScaler приводим данные признака цены к единой шкале от 0 до 1 \n",
        "scaler = StandardScaler()\n",
        "X_train = scaler.fit_transform(X_train)\n",
        "X_test = scaler.transform(X_test)"
      ],
      "metadata": {
        "id": "1yTFQpWBCAI1"
      },
      "execution_count": 21,
      "outputs": []
    },
    {
      "cell_type": "code",
      "source": [
        "print(\"X Train: \", X_train.shape)\n",
        "print(\"y Train: \", y_train.shape)\n",
        "print(\"X test: \", X_test.shape)\n",
        "print(\"y test: \", y_test.shape)"
      ],
      "metadata": {
        "colab": {
          "base_uri": "https://localhost:8080/"
        },
        "id": "7XeEPOKyObml",
        "outputId": "dfd8fe88-790c-47a1-c899-38f8ba7e56d6"
      },
      "execution_count": 22,
      "outputs": [
        {
          "output_type": "stream",
          "name": "stdout",
          "text": [
            "X Train:  (7334, 1)\n",
            "y Train:  (7334,)\n",
            "X test:  (1834, 1)\n",
            "y test:  (1834,)\n"
          ]
        }
      ]
    },
    {
      "cell_type": "markdown",
      "source": [
        "Обучаем модель логистической регрессии"
      ],
      "metadata": {
        "id": "qYCTDjrqYc_L"
      }
    },
    {
      "cell_type": "code",
      "source": [
        "model = LogisticRegression()\n",
        "model.fit(X_train, y_train)\n",
        "y_pred = model.predict(X_test)\n",
        "\n",
        "print(\"b0 и коэффициент регрессии равны: \", model.intercept_, model.coef_)"
      ],
      "metadata": {
        "colab": {
          "base_uri": "https://localhost:8080/"
        },
        "id": "DwhE0LJ-Odes",
        "outputId": "32eaf9ed-6186-4606-8fee-1a1921742308"
      },
      "execution_count": 23,
      "outputs": [
        {
          "output_type": "stream",
          "name": "stdout",
          "text": [
            "b0 и коэффициент регрессии равны:  [-0.09287652] [[-0.05028139]]\n"
          ]
        }
      ]
    },
    {
      "cell_type": "markdown",
      "source": [
        "Вывод отчет о классификации с мерами точности обученной модели: precision, recall, F1-Score и Support"
      ],
      "metadata": {
        "id": "MnUIfyeCYmet"
      }
    },
    {
      "cell_type": "code",
      "source": [
        "print(classification_report(y_test, model.predict(X_test)))"
      ],
      "metadata": {
        "colab": {
          "base_uri": "https://localhost:8080/"
        },
        "id": "Qb7PK3vXXwXt",
        "outputId": "151f7160-2017-41e5-db89-9c30a340959a"
      },
      "execution_count": 28,
      "outputs": [
        {
          "output_type": "stream",
          "name": "stdout",
          "text": [
            "              precision    recall  f1-score   support\n",
            "\n",
            "           0       0.52      1.00      0.68       949\n",
            "           1       0.00      0.00      0.00       885\n",
            "\n",
            "    accuracy                           0.52      1834\n",
            "   macro avg       0.26      0.50      0.34      1834\n",
            "weighted avg       0.27      0.52      0.35      1834\n",
            "\n"
          ]
        }
      ]
    }
  ]
}